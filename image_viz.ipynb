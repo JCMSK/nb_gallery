{
 "cells": [
  {
   "cell_type": "markdown",
   "metadata": {},
   "source": [
    "# Displaying volumetric images"
   ]
  },
  {
   "cell_type": "markdown",
   "metadata": {},
   "source": [
    "*Temporary licence. Licenses still to be discussed*  \n",
    "Content under Creative Commons Attribution license CC-BY 4.0   \n",
    "Code under Apache License  \n",
    "© 2020 Serena Bonaretti for JC|MSK\n",
    "---"
   ]
  },
  {
   "cell_type": "markdown",
   "metadata": {},
   "source": [
    "The aim of this notebook is to showcase various cases of volumetric image display  \n",
    "The code in this notebook can be copied and adapted to any other notebook so that you do not need to invest time in creating similar functions"
   ]
  },
  {
   "cell_type": "markdown",
   "metadata": {},
   "source": [
    "**What you do:**\n",
    "- Install the required python packages and JupyterLab extensions (see below)\n",
    "- Play around with the notebook \n",
    "- Copy and adapt the code to your own notebook"
   ]
  },
  {
   "cell_type": "markdown",
   "metadata": {},
   "source": [
    "**What the notebook does:**\n",
    "- Allows you to install required python packages and JupyterLab extensions (to be done only once)\n",
    "- Loads an image in .mha (but it can be any other format)\n",
    "- Display the image in 3 ways:\n",
    "  - One single slice - with and without mask\n",
    "  - Interactive display of sequence of slices using a slider - with and without mask\n",
    "  - Interactive 3D display \n",
    "  \n",
    "The python packages used are `SimpleITK` for image handling and `matplotlib` in `pymsk` for image display.   \n",
    "For interactivity, the Jupyter extensions used are `ipywidgets` and `ITKwidgets`"
   ]
  },
  {
   "cell_type": "markdown",
   "metadata": {},
   "source": [
    "**What else can be done:**  \n",
    "- For more advanced visualizations and more options (e.g. checkerboard, various colormaps, etc.), have a look a the SimpleITK notebooks:\n",
    "    - [Image display](http://insightsoftwareconsortium.github.io/SimpleITK-Notebooks/Python_html/04_Image_Display.html)\n",
    "    - [Visualization of segmentation and registration results](http://insightsoftwareconsortium.github.io/SimpleITK-Notebooks/Python_html/05_Results_Visualization.html)  \n",
    "    -[Using matplotlib to display inline images](http://insightsoftwareconsortium.github.io/SimpleITK-Notebooks/Python_html/10_matplotlib's_imshow.html)\n",
    "- If you create a new visualization tool, add it to pymsk [add link to github]!"
   ]
  },
  {
   "cell_type": "markdown",
   "metadata": {},
   "source": [
    "---"
   ]
  },
  {
   "cell_type": "markdown",
   "metadata": {},
   "source": [
    "### Installation\n",
    "\n",
    "Let's install python packages and JupyterLab extensions needed to display images in Jupyter notebook.  \n",
    "This operation has to be done only the very first time  "
   ]
  },
  {
   "cell_type": "markdown",
   "metadata": {},
   "source": [
    "Install the python packages:  \n",
    "*Note*: Typing `!` at the beginning of a cell is the same as working directly in a terminal"
   ]
  },
  {
   "cell_type": "code",
   "execution_count": null,
   "metadata": {},
   "outputs": [],
   "source": [
    "! pip install SimpleITK\n",
    "! pip install pymsk\n",
    "! pip install ipywidgets\n",
    "! pip install itkwidgets"
   ]
  },
  {
   "cell_type": "markdown",
   "metadata": {},
   "source": [
    "Install the JupyterLab extension for the widgets:"
   ]
  },
  {
   "cell_type": "code",
   "execution_count": null,
   "metadata": {},
   "outputs": [],
   "source": [
    "! jupyter nbextension enable --py widgetsnbextension\n",
    "! jupyter labextension install @jupyter-widgets/jupyterlab-manager jupyter-matplotlib jupyterlab-datawidgets itkwidgets"
   ]
  },
  {
   "cell_type": "markdown",
   "metadata": {},
   "source": [
    "Packages and extensions are installed!   \n",
    "Comment out the code in the two cells above by typing `#` in front of each line.\n",
    "\n",
    "Restart JupyterLab to make the extension work, and start playing with the commands below"
   ]
  },
  {
   "cell_type": "markdown",
   "metadata": {},
   "source": [
    "---"
   ]
  },
  {
   "cell_type": "code",
   "execution_count": 4,
   "metadata": {},
   "outputs": [],
   "source": [
    "import SimpleITK as sitk"
   ]
  },
  {
   "cell_type": "markdown",
   "metadata": {},
   "source": [
    "## Read a volumetric image"
   ]
  },
  {
   "cell_type": "code",
   "execution_count": 5,
   "metadata": {},
   "outputs": [],
   "source": [
    "image_file_name = \"./data/images/mha/DESS_prep.mha\""
   ]
  },
  {
   "cell_type": "code",
   "execution_count": 6,
   "metadata": {},
   "outputs": [],
   "source": [
    "img = sitk.ReadImage(image_file_name)"
   ]
  },
  {
   "cell_type": "markdown",
   "metadata": {},
   "source": [
    "## 1. Display one slice (and its mask)"
   ]
  },
  {
   "cell_type": "code",
   "execution_count": null,
   "metadata": {},
   "outputs": [],
   "source": []
  },
  {
   "cell_type": "code",
   "execution_count": null,
   "metadata": {},
   "outputs": [],
   "source": []
  },
  {
   "cell_type": "markdown",
   "metadata": {},
   "source": [
    "## 2. Browse the whole image (with its mask)"
   ]
  },
  {
   "cell_type": "code",
   "execution_count": null,
   "metadata": {},
   "outputs": [],
   "source": []
  },
  {
   "cell_type": "code",
   "execution_count": null,
   "metadata": {},
   "outputs": [],
   "source": []
  },
  {
   "cell_type": "markdown",
   "metadata": {},
   "source": [
    "## 3. Display the 3D"
   ]
  },
  {
   "cell_type": "code",
   "execution_count": null,
   "metadata": {},
   "outputs": [],
   "source": []
  },
  {
   "cell_type": "code",
   "execution_count": null,
   "metadata": {},
   "outputs": [],
   "source": []
  }
 ],
 "metadata": {
  "kernelspec": {
   "display_name": "Python 3",
   "language": "python",
   "name": "python3"
  },
  "language_info": {
   "codemirror_mode": {
    "name": "ipython",
    "version": 3
   },
   "file_extension": ".py",
   "mimetype": "text/x-python",
   "name": "python",
   "nbconvert_exporter": "python",
   "pygments_lexer": "ipython3",
   "version": "3.7.6"
  },
  "widgets": {
   "application/vnd.jupyter.widget-state+json": {
    "state": {},
    "version_major": 2,
    "version_minor": 0
   }
  }
 },
 "nbformat": 4,
 "nbformat_minor": 4
}
