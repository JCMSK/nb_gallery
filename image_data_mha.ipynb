{
 "cells": [
  {
   "cell_type": "markdown",
   "metadata": {},
   "source": [
    "# Analysis of *.mha* image headers"
   ]
  },
  {
   "cell_type": "markdown",
   "metadata": {},
   "source": [
    "*Temporary licence. Licenses still to be discussed*  \n",
    "Content under Creative Commons Attribution license CC-BY 4.0   \n",
    "Code under Apache License  \n",
    "© 2020 Serena Bonaretti for JC|MSK\n",
    "---"
   ]
  },
  {
   "cell_type": "markdown",
   "metadata": {},
   "source": [
    "The aim of this notebook is to extract image spacing, size, and pixel type from a group of `.mha` images  \n",
    "This notebook can be attached to the *Material* paragraph of your paper"
   ]
  },
  {
   "cell_type": "markdown",
   "metadata": {},
   "source": [
    "**What you do:**\n",
    "- Add the path to the folder containing your `.mha` file in the code below (look for the arrow ->). Note that all the files of the folder will be read"
   ]
  },
  {
   "cell_type": "markdown",
   "metadata": {},
   "source": [
    "**What the notebook does:**\n",
    "- Gets the list of mha files in the directory\n",
    "- For each file:\n",
    "    - Reads the image header and extracts spacing, size, and pixel(voxel) type\n",
    "- Creates a dataframe (=table) with all the information of all images\n",
    "- Queries the table to extract how many images have a certain spacing, size, and pixel type\n",
    "- Prints out dependencies for reproducibility\n",
    "\n",
    "To read .mha headers, it uses the python package `SimpleITK`   \n",
    "To create and query the dataframe, it uses the python package `pandas`  "
   ]
  },
  {
   "cell_type": "markdown",
   "metadata": {},
   "source": [
    "---"
   ]
  },
  {
   "cell_type": "code",
   "execution_count": 1,
   "metadata": {},
   "outputs": [],
   "source": [
    "import os\n",
    "import pandas as pd\n",
    "import SimpleITK as sitk"
   ]
  },
  {
   "cell_type": "markdown",
   "metadata": {},
   "source": [
    "## Read image headers and create the dataframe\n"
   ]
  },
  {
   "cell_type": "markdown",
   "metadata": {},
   "source": [
    "Read the folder content  \n",
    "-> Add your folder path to the variable `folder`"
   ]
  },
  {
   "cell_type": "code",
   "execution_count": 2,
   "metadata": {},
   "outputs": [],
   "source": [
    "# get files in folder\n",
    "folder = \"./data/images/mha\"\n",
    "\n",
    "# make sure there is \"/\" or \"\\\" at the end of the folder name\n",
    "if folder[-1] != os.sep:\n",
    "    folder = folder + os.sep\n",
    "\n",
    "# get the folder content\n",
    "folder_content = os.listdir(folder)"
   ]
  },
  {
   "cell_type": "markdown",
   "metadata": {},
   "source": [
    "Extract image information from the header"
   ]
  },
  {
   "cell_type": "code",
   "execution_count": 3,
   "metadata": {},
   "outputs": [
    {
     "name": "stdout",
     "output_type": "stream",
     "text": [
      "T2_0_orig.mha\n",
      "T2_1_orig.mha\n",
      "DESS_prep.mha\n",
      "01_DESS_01_prep.mha\n"
     ]
    }
   ],
   "source": [
    "# variables for the loop\n",
    "file_names = []\n",
    "spacing    = []\n",
    "size       = []\n",
    "pixel_type = []\n",
    "\n",
    "# create the reader\n",
    "reader = sitk.ImageFileReader()\n",
    "\n",
    "for i in range (0, len(folder_content)):\n",
    "    \n",
    "    # make sure you are loading an .mha image\n",
    "    if os.path.splitext(folder_content[i])[1] == \".mha\":\n",
    "        \n",
    "        # print out name and assign it to list\n",
    "        print (folder_content[i])\n",
    "        file_names.append(folder_content[i])\n",
    "               \n",
    "        # read the header\n",
    "        reader.SetFileName(folder + folder_content[i] )\n",
    "        reader.LoadPrivateTagsOn()\n",
    "        reader.ReadImageInformation()\n",
    "        \n",
    "        # get spacing\n",
    "        spac = reader.GetSpacing() # it's a tuple   \n",
    "        spac = list(spac) # convert to list\n",
    "        spac[0] = round(spac[0],3) # round to 3 decimals\n",
    "        spac[1] = round(spac[1],3)\n",
    "        spac[2] = round(spac[2],3)\n",
    "        spac = tuple(spac) # reconver to tuple\n",
    "        spacing.append(spac)\n",
    "        \n",
    "        # get size\n",
    "        size.append(reader.GetSize())\n",
    "        \n",
    "        # get pixel type\n",
    "        pixel_type.append(sitk.GetPixelIDValueAsString(reader.GetPixelID()))      "
   ]
  },
  {
   "cell_type": "markdown",
   "metadata": {},
   "source": [
    "Create the dataframe:"
   ]
  },
  {
   "cell_type": "code",
   "execution_count": 4,
   "metadata": {},
   "outputs": [
    {
     "data": {
      "text/html": [
       "<div>\n",
       "<style scoped>\n",
       "    .dataframe tbody tr th:only-of-type {\n",
       "        vertical-align: middle;\n",
       "    }\n",
       "\n",
       "    .dataframe tbody tr th {\n",
       "        vertical-align: top;\n",
       "    }\n",
       "\n",
       "    .dataframe thead th {\n",
       "        text-align: right;\n",
       "    }\n",
       "</style>\n",
       "<table border=\"1\" class=\"dataframe\">\n",
       "  <thead>\n",
       "    <tr style=\"text-align: right;\">\n",
       "      <th></th>\n",
       "      <th>file_name</th>\n",
       "      <th>spacing</th>\n",
       "      <th>size</th>\n",
       "      <th>pixel_type</th>\n",
       "    </tr>\n",
       "  </thead>\n",
       "  <tbody>\n",
       "    <tr>\n",
       "      <th>0</th>\n",
       "      <td>T2_0_orig.mha</td>\n",
       "      <td>(4.06, 0.43, 0.43)</td>\n",
       "      <td>(33, 384, 384)</td>\n",
       "      <td>32-bit float</td>\n",
       "    </tr>\n",
       "    <tr>\n",
       "      <th>1</th>\n",
       "      <td>T2_1_orig.mha</td>\n",
       "      <td>(4.06, 0.43, 0.43)</td>\n",
       "      <td>(33, 384, 384)</td>\n",
       "      <td>32-bit float</td>\n",
       "    </tr>\n",
       "    <tr>\n",
       "      <th>2</th>\n",
       "      <td>DESS_prep.mha</td>\n",
       "      <td>(0.75, 0.427, 0.427)</td>\n",
       "      <td>(160, 384, 384)</td>\n",
       "      <td>8-bit signed integer</td>\n",
       "    </tr>\n",
       "    <tr>\n",
       "      <th>3</th>\n",
       "      <td>01_DESS_01_prep.mha</td>\n",
       "      <td>(1.5, 0.312, 0.312)</td>\n",
       "      <td>(80, 512, 512)</td>\n",
       "      <td>8-bit signed integer</td>\n",
       "    </tr>\n",
       "  </tbody>\n",
       "</table>\n",
       "</div>"
      ],
      "text/plain": [
       "             file_name               spacing             size  \\\n",
       "0        T2_0_orig.mha    (4.06, 0.43, 0.43)   (33, 384, 384)   \n",
       "1        T2_1_orig.mha    (4.06, 0.43, 0.43)   (33, 384, 384)   \n",
       "2        DESS_prep.mha  (0.75, 0.427, 0.427)  (160, 384, 384)   \n",
       "3  01_DESS_01_prep.mha   (1.5, 0.312, 0.312)   (80, 512, 512)   \n",
       "\n",
       "             pixel_type  \n",
       "0          32-bit float  \n",
       "1          32-bit float  \n",
       "2  8-bit signed integer  \n",
       "3  8-bit signed integer  "
      ]
     },
     "execution_count": 4,
     "metadata": {},
     "output_type": "execute_result"
    }
   ],
   "source": [
    "# combine data in list of lists\n",
    "data = [file_names, spacing, size, pixel_type]\n",
    "# create dataframe\n",
    "df = pd.DataFrame(data) \n",
    "# transpose dataframe\n",
    "df = df.T\n",
    "# add column names\n",
    "df.columns = [\"file_name\", \"spacing\", \"size\", \"pixel_type\"]\n",
    "df"
   ]
  },
  {
   "cell_type": "markdown",
   "metadata": {},
   "source": [
    "## Get number of images\n",
    "The number of images coincides with the number of rows:"
   ]
  },
  {
   "cell_type": "code",
   "execution_count": 5,
   "metadata": {},
   "outputs": [
    {
     "name": "stdout",
     "output_type": "stream",
     "text": [
      "4\n"
     ]
    }
   ],
   "source": [
    "n_of_rows = df.shape[0]\n",
    "print (n_of_rows)"
   ]
  },
  {
   "cell_type": "markdown",
   "metadata": {},
   "source": [
    "## Get spacing\n",
    "Show number of images with a certain spacing:"
   ]
  },
  {
   "cell_type": "code",
   "execution_count": 6,
   "metadata": {},
   "outputs": [
    {
     "data": {
      "text/html": [
       "<div>\n",
       "<style scoped>\n",
       "    .dataframe tbody tr th:only-of-type {\n",
       "        vertical-align: middle;\n",
       "    }\n",
       "\n",
       "    .dataframe tbody tr th {\n",
       "        vertical-align: top;\n",
       "    }\n",
       "\n",
       "    .dataframe thead th {\n",
       "        text-align: right;\n",
       "    }\n",
       "</style>\n",
       "<table border=\"1\" class=\"dataframe\">\n",
       "  <thead>\n",
       "    <tr style=\"text-align: right;\">\n",
       "      <th></th>\n",
       "      <th>file_name</th>\n",
       "    </tr>\n",
       "    <tr>\n",
       "      <th>spacing</th>\n",
       "      <th></th>\n",
       "    </tr>\n",
       "  </thead>\n",
       "  <tbody>\n",
       "    <tr>\n",
       "      <th>(0.75, 0.427, 0.427)</th>\n",
       "      <td>1</td>\n",
       "    </tr>\n",
       "    <tr>\n",
       "      <th>(1.5, 0.312, 0.312)</th>\n",
       "      <td>1</td>\n",
       "    </tr>\n",
       "    <tr>\n",
       "      <th>(4.06, 0.43, 0.43)</th>\n",
       "      <td>2</td>\n",
       "    </tr>\n",
       "  </tbody>\n",
       "</table>\n",
       "</div>"
      ],
      "text/plain": [
       "                      file_name\n",
       "spacing                        \n",
       "(0.75, 0.427, 0.427)          1\n",
       "(1.5, 0.312, 0.312)           1\n",
       "(4.06, 0.43, 0.43)            2"
      ]
     },
     "execution_count": 6,
     "metadata": {},
     "output_type": "execute_result"
    }
   ],
   "source": [
    "df.groupby('spacing')[[\"file_name\"]].count() #[[]] is for a nice print out"
   ]
  },
  {
   "cell_type": "markdown",
   "metadata": {},
   "source": [
    "## Get size  \n",
    "Show number of images with a certain size:"
   ]
  },
  {
   "cell_type": "code",
   "execution_count": 7,
   "metadata": {},
   "outputs": [
    {
     "data": {
      "text/html": [
       "<div>\n",
       "<style scoped>\n",
       "    .dataframe tbody tr th:only-of-type {\n",
       "        vertical-align: middle;\n",
       "    }\n",
       "\n",
       "    .dataframe tbody tr th {\n",
       "        vertical-align: top;\n",
       "    }\n",
       "\n",
       "    .dataframe thead th {\n",
       "        text-align: right;\n",
       "    }\n",
       "</style>\n",
       "<table border=\"1\" class=\"dataframe\">\n",
       "  <thead>\n",
       "    <tr style=\"text-align: right;\">\n",
       "      <th></th>\n",
       "      <th>file_name</th>\n",
       "    </tr>\n",
       "    <tr>\n",
       "      <th>size</th>\n",
       "      <th></th>\n",
       "    </tr>\n",
       "  </thead>\n",
       "  <tbody>\n",
       "    <tr>\n",
       "      <th>(33, 384, 384)</th>\n",
       "      <td>2</td>\n",
       "    </tr>\n",
       "    <tr>\n",
       "      <th>(80, 512, 512)</th>\n",
       "      <td>1</td>\n",
       "    </tr>\n",
       "    <tr>\n",
       "      <th>(160, 384, 384)</th>\n",
       "      <td>1</td>\n",
       "    </tr>\n",
       "  </tbody>\n",
       "</table>\n",
       "</div>"
      ],
      "text/plain": [
       "                 file_name\n",
       "size                      \n",
       "(33, 384, 384)           2\n",
       "(80, 512, 512)           1\n",
       "(160, 384, 384)          1"
      ]
     },
     "execution_count": 7,
     "metadata": {},
     "output_type": "execute_result"
    }
   ],
   "source": [
    "df.groupby('size')[[\"file_name\"]].count() "
   ]
  },
  {
   "cell_type": "markdown",
   "metadata": {},
   "source": [
    "## Get pixel type  \n",
    "Show number of images with a certain pixel type:"
   ]
  },
  {
   "cell_type": "code",
   "execution_count": 8,
   "metadata": {},
   "outputs": [
    {
     "data": {
      "text/html": [
       "<div>\n",
       "<style scoped>\n",
       "    .dataframe tbody tr th:only-of-type {\n",
       "        vertical-align: middle;\n",
       "    }\n",
       "\n",
       "    .dataframe tbody tr th {\n",
       "        vertical-align: top;\n",
       "    }\n",
       "\n",
       "    .dataframe thead th {\n",
       "        text-align: right;\n",
       "    }\n",
       "</style>\n",
       "<table border=\"1\" class=\"dataframe\">\n",
       "  <thead>\n",
       "    <tr style=\"text-align: right;\">\n",
       "      <th></th>\n",
       "      <th>file_name</th>\n",
       "    </tr>\n",
       "    <tr>\n",
       "      <th>pixel_type</th>\n",
       "      <th></th>\n",
       "    </tr>\n",
       "  </thead>\n",
       "  <tbody>\n",
       "    <tr>\n",
       "      <th>32-bit float</th>\n",
       "      <td>2</td>\n",
       "    </tr>\n",
       "    <tr>\n",
       "      <th>8-bit signed integer</th>\n",
       "      <td>2</td>\n",
       "    </tr>\n",
       "  </tbody>\n",
       "</table>\n",
       "</div>"
      ],
      "text/plain": [
       "                      file_name\n",
       "pixel_type                     \n",
       "32-bit float                  2\n",
       "8-bit signed integer          2"
      ]
     },
     "execution_count": 8,
     "metadata": {},
     "output_type": "execute_result"
    }
   ],
   "source": [
    "df.groupby('pixel_type')[[\"file_name\"]].count()"
   ]
  },
  {
   "cell_type": "markdown",
   "metadata": {},
   "source": [
    "--- \n",
    "## Dependencies\n",
    "Dependencies keep track of the computational environment, so that we can make our workflows reproducible.  \n",
    "Here we use the package watermark. If you haven't installed it yet, go to your terminal, and type `pip install watermark`"
   ]
  },
  {
   "cell_type": "code",
   "execution_count": 9,
   "metadata": {},
   "outputs": [
    {
     "name": "stdout",
     "output_type": "stream",
     "text": [
      "CPython 3.7.6\n",
      "IPython 7.13.0\n",
      "\n",
      "pandas 1.0.3\n",
      "SimpleITK 1.2.4\n",
      "watermark 2.0.2\n",
      "\n",
      "compiler   : Clang 4.0.1 (tags/RELEASE_401/final)\n",
      "system     : Darwin\n",
      "release    : 19.4.0\n",
      "machine    : x86_64\n",
      "processor  : i386\n",
      "CPU cores  : 4\n",
      "interpreter: 64bit\n"
     ]
    }
   ],
   "source": [
    "%load_ext watermark\n",
    "%watermark -v -m -p pandas,SimpleITK,watermark"
   ]
  }
 ],
 "metadata": {
  "kernelspec": {
   "display_name": "Python 3",
   "language": "python",
   "name": "python3"
  },
  "language_info": {
   "codemirror_mode": {
    "name": "ipython",
    "version": 3
   },
   "file_extension": ".py",
   "mimetype": "text/x-python",
   "name": "python",
   "nbconvert_exporter": "python",
   "pygments_lexer": "ipython3",
   "version": "3.7.6"
  },
  "widgets": {
   "application/vnd.jupyter.widget-state+json": {
    "state": {},
    "version_major": 2,
    "version_minor": 0
   }
  }
 },
 "nbformat": 4,
 "nbformat_minor": 4
}
