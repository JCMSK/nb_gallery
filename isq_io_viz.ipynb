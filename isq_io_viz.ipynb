{
 "cells": [
  {
   "cell_type": "markdown",
   "metadata": {},
   "source": [
    "# Reading, writing, and visualizing *.isq* files\n",
    "\n",
    "This notebook was created with the support of [SPECTRA](https://www.spectra-collab.org/)"
   ]
  },
  {
   "cell_type": "markdown",
   "metadata": {},
   "source": [
    "Content under Creative Commons Attribution license CC-BY-NC-SA 4.0   \n",
    "Code under GNU-GPL v3 License  \n",
    "By [Serena Bonaretti](https://sbonaretti.github.io/)\n",
    "---"
   ]
  },
  {
   "cell_type": "markdown",
   "metadata": {},
   "source": [
    "This notebook contains code for:   \n",
    "[1. Reading *.isq* file headers](#1)  \n",
    "&nbsp;&nbsp;&nbsp; [1.1. Getting the names of the *.isq* files in a folder](#1.1)  \n",
    "&nbsp;&nbsp;&nbsp; [1.2 Extracting information from image headers](#1.2)  \n",
    "[2. Creating a metadata table](#2)   \n",
    "&nbsp;&nbsp;&nbsp; [2.1 Getting image metadata from image headers](#2.1)  \n",
    "&nbsp;&nbsp;&nbsp; [2.2 Getting subject metadata and other metadata from a tabular file](#2.2)  \n",
    "&nbsp;&nbsp;&nbsp; [2.3 Merging the metadata tables](#2.3)  \n",
    "[3. Saving the table to a *.csv* or *.xlsx* file](#3)    \n",
    "[4. Reading a *.isq* image](#4)  \n",
    "[5. Saving an image to *.mha* with its *.isq* header](#5)   \n",
    "[6. Reading an image and its header from a *.mha* file](#6)   \n",
    "[7. Visualizing images](#7)  \n",
    "&nbsp;&nbsp;&nbsp; [7.1 Visualizing one slice of one image](#7.1)  \n",
    "&nbsp;&nbsp;&nbsp; [7.2 Browings an image with a slider](#7.2)  \n",
    "&nbsp;&nbsp;&nbsp; [7.3 Visualizing three slices for several images](#7.3)  \n",
    "[8. Hints](#8)  \n",
    "[9. Dependencies](#9)"
   ]
  },
  {
   "cell_type": "markdown",
   "metadata": {},
   "source": [
    "--- \n",
    "## Installing packages (only the first time)\n",
    "\n",
    "In this notebook we use:\n",
    "- Python scientific packages (i.e. matplotlib and pandas), which are part of anaconda (download anaconda [here](https://www.anaconda.com/products/individual))  \n",
    "- Specific packages:  \n",
    "    - [pymsk](https://github.com/JCMSK/pyMSK), which contains functions to read, write, and visualize *.isq* files. It also installs [SimpleITK](https://simpleitk.readthedocs.io/en/master/#) and [ITK](https://itk.org/)  \n",
    "    - [itk-ioscanco](https://github.com/KitwareMedical/ITKIOScanco), to read *.isq* images\n",
    "    - [watermark](https://github.com/rasbt/watermark), to print out the notebook dependencies for future reproducibility   \n",
    "\n",
    "In the following cell, the `!`  tells the notebook to execute terminal commands (so no need to open a terminal separately)  \n",
    "The following cell must be run only the very first time we use this notebook to install the packages. For the following times, we can comment out the cellby adding `#` in front of each command\n"
   ]
  },
  {
   "cell_type": "code",
   "execution_count": null,
   "metadata": {},
   "outputs": [],
   "source": [
    "! pip install pymsk\n",
    "! python -m pip install itk-ioscanco\n",
    "! pip install watermark"
   ]
  },
  {
   "cell_type": "markdown",
   "metadata": {},
   "source": [
    "---\n",
    "Imports:"
   ]
  },
  {
   "cell_type": "code",
   "execution_count": null,
   "metadata": {},
   "outputs": [],
   "source": [
    "# python imports\n",
    "import matplotlib.pyplot as plt\n",
    "import os\n",
    "import pandas as pd\n",
    "import time\n",
    "\n",
    "# medical image imports\n",
    "from pymsk import scanco_io\n",
    "from pymsk import scanco_viz\n",
    "import SimpleITK as sitk"
   ]
  },
  {
   "cell_type": "markdown",
   "metadata": {},
   "source": [
    "---\n",
    "Variables:"
   ]
  },
  {
   "cell_type": "code",
   "execution_count": null,
   "metadata": {},
   "outputs": [],
   "source": [
    "isq_folder     = \" \" # write here your path. Make sure it terminates with \"/\""
   ]
  },
  {
   "cell_type": "markdown",
   "metadata": {},
   "source": [
    "--- \n",
    "<a class=\"anchor\" id=\"1\"></a>\n",
    "## 1. Reading *.isq* file headers"
   ]
  },
  {
   "cell_type": "markdown",
   "metadata": {},
   "source": [
    "<a class=\"anchor\" id=\"1.1\"></a>\n",
    "### 1.1. Getting the names of the *.isq* files in a folder:"
   ]
  },
  {
   "cell_type": "code",
   "execution_count": null,
   "metadata": {},
   "outputs": [],
   "source": [
    "# getting the folder content\n",
    "folder_content = os.listdir(isq_folder)\n",
    "\n",
    "# creating the list for .isq file names\n",
    "isq_file_names = [] \n",
    "\n",
    "# getting only .isq files\n",
    "for i in range(0, len(folder_content)): \n",
    "    \n",
    "    # getting file extensions\n",
    "    filename, file_extension = os.path.splitext(isq_folder + folder_content[i])\n",
    "    \n",
    "    # get only the files with .isq or .ISQ file extension\n",
    "    if \"isq\" in file_extension or \"ISQ\" in file_extension:\n",
    "        isq_file_names.append(folder_content[i])\n",
    "        \n",
    "print (\"-> Found \" + str(len(isq_file_names)) + \" .isq files in folder:\" )\n",
    "for filename in isq_file_names:\n",
    "    print (filename)"
   ]
  },
  {
   "cell_type": "markdown",
   "metadata": {},
   "source": [
    "<a class=\"anchor\" id=\"1.2\"></a>\n",
    "### 1.2 Extracting information from image headers  \n",
    "\n",
    "- To read the .isq file headers, we use the function `read_isq_header()` from `pymsk`  \n",
    "- For each image, we will get two lists: \n",
    "    - `keys`, containing all the information labels (e.g. *pixel_size_um*, etc.)\n",
    "    - `values`, containing all the actual values (e.g. *82*, etc.)  \n",
    "- Then we save the `keys` of the first image into the list `all_keys` - we do not need to save the keys for every image because they are the same   \n",
    "  The values in `all_keys` will become the column names of the table\n",
    "- Finally for each image we add the list `values` to the list of lists `all_values`  \n",
    "  The values in `all_values` will become the content of the table"
   ]
  },
  {
   "cell_type": "code",
   "execution_count": null,
   "metadata": {},
   "outputs": [],
   "source": [
    "# initializing list containing keys and values\n",
    "all_keys = []\n",
    "all_values = []\n",
    "\n",
    "# for each .isq file in the folder\n",
    "for i in range(0, len(isq_file_names)): \n",
    "       \n",
    "    # get keys and values from the header of the current image\n",
    "    current_keys, current_values = scanco_io.read_isq_header(isq_folder + isq_file_names[i]) \n",
    "\n",
    "    # save the keys of the first image in the variable all_keys\n",
    "    if i == 0:\n",
    "        all_keys = current_keys\n",
    "\n",
    "    # add the values of the current image header into all_values\n",
    "    all_values.append(current_values)"
   ]
  },
  {
   "cell_type": "markdown",
   "metadata": {},
   "source": [
    "--- \n",
    "<a class=\"anchor\" id=\"2\"></a>\n",
    "## 2. Creating a metadata table \n",
    "\n",
    "- We want to create a metadata table containing:  \n",
    "  - Image metadata from *.isq* headers  \n",
    "  - Subject metadata and other metadata collected by an operator in a tabular file (e.g. *.csv*)  \n",
    "  \n",
    "  \n",
    "- To handle tables, we use the python package [pandas](https://pandas.pydata.org/), imported at the beginning of the notebook"
   ]
  },
  {
   "cell_type": "markdown",
   "metadata": {},
   "source": [
    "<a class=\"anchor\" id=\"2.1\"></a>\n",
    "### 2.1 Getting image metadata from image headers\n",
    "\n",
    "- First we create the image metadata table where:  \n",
    "  - `all_keys` will be the table column names \n",
    "  - `all_values` will be the content of the table    \n",
    "- Then we insert a column at the beginning of the table containing the image file names for reference    \n",
    "- Finally we drop the column *fill* as it just contains zeros"
   ]
  },
  {
   "cell_type": "code",
   "execution_count": null,
   "metadata": {},
   "outputs": [],
   "source": [
    "# display all pandas columns and rows \n",
    "pd.options.display.max_rows    = None\n",
    "pd.options.display.max_columns = None"
   ]
  },
  {
   "cell_type": "code",
   "execution_count": null,
   "metadata": {},
   "outputs": [],
   "source": [
    "# create dataframe (=table)\n",
    "isq_headers = pd.DataFrame(all_values, columns = all_keys)\n",
    "\n",
    "# adding column with file names in position 0\n",
    "isq_headers.insert(0, \"file_name\", isq_file_names)\n",
    "\n",
    "# delete column \"fill\" because it just contains zeros\n",
    "isq_headers = isq_headers.drop(columns = [\"fill\"])\n",
    "\n",
    "# show dataframe\n",
    "isq_headers"
   ]
  },
  {
   "cell_type": "markdown",
   "metadata": {},
   "source": [
    "<a class=\"anchor\" id=\"2.2\"></a>\n",
    "### 2.2 Getting subject metadata and other metadata from a tabular file\n",
    "\n",
    "- We read the tabular file `subject_data` containing information about subjects and acquision protocol. Find a template [here](https://github.com/JCMSK/nb_gallery/blob/master/data/tabular/subjects_scanco_template.csv)  "
   ]
  },
  {
   "cell_type": "code",
   "execution_count": null,
   "metadata": {},
   "outputs": [],
   "source": [
    "# read the table\n",
    "subject_data = pd.read_csv(isq_folder + \"subjects_data.csv\")\n",
    "subject_data"
   ]
  },
  {
   "cell_type": "markdown",
   "metadata": {},
   "source": [
    "<a class=\"anchor\" id=\"2.3\"></a>\n",
    "### 2.3 Merging the metadata tables\n",
    "\n",
    "Finally, we create a `metadata` table that is the combination of `isq_headers` and `subject_data`. We do the merge by using `scanner_id` and `meas_no` as keys  "
   ]
  },
  {
   "cell_type": "code",
   "execution_count": null,
   "metadata": {},
   "outputs": [],
   "source": [
    "# add the subject data to \n",
    "metadata = pd.merge(isq_headers, subject_data, on=[\"scanner_id\", \"meas_no\"])\n",
    "metadata"
   ]
  },
  {
   "cell_type": "markdown",
   "metadata": {},
   "source": [
    "---\n",
    "<a class=\"anchor\" id=\"3\"></a>\n",
    "## 3. Saving the table to a *.csv* or *.xlsx* file  \n",
    "\n",
    "We can save the dataframe to several different file formats. Here we save it as:  \n",
    "- *.csv* (open source)\n",
    "- *.xlsx* (proprietary)  \n"
   ]
  },
  {
   "cell_type": "code",
   "execution_count": null,
   "metadata": {},
   "outputs": [],
   "source": [
    "# save to csv\n",
    "metadata.to_csv(\"metadata.csv\")\n",
    "\n",
    "# save to excel\n",
    "metadata.to_excel(\"metadata.xlsx\")"
   ]
  },
  {
   "cell_type": "markdown",
   "metadata": {},
   "source": [
    "---\n",
    "<a class=\"anchor\" id=\"4\"></a>\n",
    "## 4. Reading a *.isq* image\n",
    "\n",
    "To read an image, we use the function `read_isq_image()` from `pymsk`, where:   \n",
    "- The argument of the function is the image file name  \n",
    "- The returned image is a SimpleITK image"
   ]
  },
  {
   "cell_type": "code",
   "execution_count": null,
   "metadata": {},
   "outputs": [],
   "source": [
    "# define the ID of the image we are going to read\n",
    "img_ID = 0"
   ]
  },
  {
   "cell_type": "code",
   "execution_count": null,
   "metadata": {},
   "outputs": [],
   "source": [
    "# read the image\n",
    "img = scanco_io.read_isq_image(isq_folder + isq_file_names[img_ID])"
   ]
  },
  {
   "cell_type": "code",
   "execution_count": null,
   "metadata": {},
   "outputs": [],
   "source": [
    "# print out the usual SimpleITK image characteristics\n",
    "print (img.GetSize())\n",
    "print (img.GetSpacing())\n",
    "print (img.GetOrigin())\n",
    "print (img.GetDirection())"
   ]
  },
  {
   "cell_type": "markdown",
   "metadata": {},
   "source": [
    "- It can take some time to read *.isq* images as they can be big. To know the reading time:"
   ]
  },
  {
   "cell_type": "code",
   "execution_count": null,
   "metadata": {},
   "outputs": [],
   "source": [
    "# start the timer\n",
    "start_time = time.time()\n",
    "\n",
    "# read the image\n",
    "img = scanco_io.read_isq_image(isq_folder + isq_file_names[img_ID])\n",
    "\n",
    "# stop the timer and print out \n",
    "print(\"Reading the image took \" + \"{:.2f}\".format(time.time() - start_time) + \" seconds\")"
   ]
  },
  {
   "cell_type": "markdown",
   "metadata": {},
   "source": [
    "---\n",
    "<a class=\"anchor\" id=\"5\"></a>\n",
    "## 5. Saving an image to *.mha* with its *.isq* header\n",
    "\n",
    "To save an image, we use the function `write_mha_image()` from `pymsk`, where the arguments are:  \n",
    "- the image  \n",
    "- image file name  \n",
    "- metadata keys. This is an *optional* argument. \n",
    "- metadata values. This is an *optional* argument.  \n",
    "\n",
    "The image is saved as a *.mha* file\n",
    "\n",
    "In this example we save the image all its metadata"
   ]
  },
  {
   "cell_type": "code",
   "execution_count": null,
   "metadata": {},
   "outputs": [],
   "source": [
    "# preparing the arguments\n",
    "\n",
    "# image file name: substituting .isq with .mha\n",
    "root, ext = os.path.splitext(isq_file_names[img_ID])\n",
    "mha_file_name = root + \".mha\"\n",
    "\n",
    "# the image keys are the column names of the dataframe, transformed into a list\n",
    "img_keys = list(metadata.columns)\n",
    "\n",
    "# the image values are in a row corresponding to the image ID (note that IDs start from zero)\n",
    "img_values = list(metadata.loc[img_ID,:])"
   ]
  },
  {
   "cell_type": "code",
   "execution_count": null,
   "metadata": {},
   "outputs": [],
   "source": [
    "# writing the image\n",
    "scanco_io.write_mha_image(img, mha_file_name, img_keys, img_values)"
   ]
  },
  {
   "cell_type": "code",
   "execution_count": null,
   "metadata": {},
   "outputs": [],
   "source": [
    "# writing the image with no metadata in the header (not recommended)\n",
    "# scanco_io.write_mha_image(img, mha_file_name) # uncomment the command by deleting # at the beginning of the line"
   ]
  },
  {
   "cell_type": "markdown",
   "metadata": {},
   "source": [
    "---\n",
    "<a class=\"anchor\" id=\"6\"></a>\n",
    "## 6. Reading an image and its header from a *.mha* file  \n",
    "\n",
    "Once we have saved the *.isq* file as a *.mha* file, we might want to reload it for subsequent analysis maybe into another notebook or pipeline. The image that we read will be a *SimpleITK* image, so that we can use *SimpleITK* functions to process and analyze it. Here are the *SimpleITK* commands:"
   ]
  },
  {
   "cell_type": "code",
   "execution_count": null,
   "metadata": {},
   "outputs": [],
   "source": [
    "# reading the image\n",
    "img = sitk.ReadImage(mha_file_name)"
   ]
  },
  {
   "cell_type": "code",
   "execution_count": null,
   "metadata": {},
   "outputs": [],
   "source": [
    "# print out the header of the image\n",
    "for key in img.GetMetaDataKeys():\n",
    "        print(\"\\\"{0}\\\":\\\"{1}\\\"\".format(key, img.GetMetaData(key)))"
   ]
  },
  {
   "cell_type": "code",
   "execution_count": null,
   "metadata": {},
   "outputs": [],
   "source": [
    "# print out the usual SimpleITK image properties\n",
    "print (img.GetSize())\n",
    "print (img.GetSpacing())\n",
    "print (img.GetOrigin())\n",
    "print (img.GetDirection())"
   ]
  },
  {
   "cell_type": "markdown",
   "metadata": {},
   "source": [
    "--- \n",
    "<a class=\"anchor\" id=\"7\"></a>\n",
    "## 7. Visualizing images   "
   ]
  },
  {
   "cell_type": "markdown",
   "metadata": {},
   "source": [
    "Before visualizing an image, we can determine the figure dimension using the command below:"
   ]
  },
  {
   "cell_type": "code",
   "execution_count": null,
   "metadata": {},
   "outputs": [],
   "source": [
    " plt.rcParams['figure.figsize'] = [5, 5] # the values are in inches"
   ]
  },
  {
   "cell_type": "markdown",
   "metadata": {},
   "source": [
    "*Note:* Figure dimensions remain constant throughout the whole notebook. To change the dimensions of a following figure, copy/paste the previous command with the new dimensions right above the new figure"
   ]
  },
  {
   "cell_type": "markdown",
   "metadata": {},
   "source": [
    "Here are some common ways to visualize images:"
   ]
  },
  {
   "cell_type": "markdown",
   "metadata": {},
   "source": [
    "<a class=\"anchor\" id=\"7.1\"></a>\n",
    "### 7.1 Visualizing one slice of one image\n",
    "\n",
    "To visualize one image slice we use the function `show_sitk_slice()` from `pymsk`. It can have three arguments:  \n",
    "- `img`: a *SimpleITK* image. It is a *mandatory* argument \n",
    "- `slice_id`: id of the slice to visualize. It is an *optional* argument. If not specified, the function shows the slice in the middle of the stack  \n",
    "- `plane`: radiological plane to visualize. It is an *optional* argument with three options:  \n",
    "   - `\"f\"`, for *frontal* \n",
    "   - `\"s\"`, for *sagittal* \n",
    "   - `\"a\"`, for *axial*     \n",
    "   \n",
    " If not specified, the function shows the slice in the frontal plane.   \n",
    " More information on radiological planes for *.isq* images in *SimpleITK* and *Numpy* [here](https://github.com/JCMSK/pyMSK/blob/master/doc/img/isq_image_directions.pdf)"
   ]
  },
  {
   "cell_type": "markdown",
   "metadata": {},
   "source": [
    "Showing a slice with default parameters:"
   ]
  },
  {
   "cell_type": "code",
   "execution_count": null,
   "metadata": {},
   "outputs": [],
   "source": [
    "scanco_viz.show_sitk_slice(img) "
   ]
  },
  {
   "cell_type": "markdown",
   "metadata": {},
   "source": [
    "Showing a slice with specified parameters:"
   ]
  },
  {
   "cell_type": "code",
   "execution_count": null,
   "metadata": {},
   "outputs": [],
   "source": [
    "scanco_viz.show_sitk_slice(img, slice_id = 550, plane = \"s\") "
   ]
  },
  {
   "cell_type": "markdown",
   "metadata": {},
   "source": [
    "<a class=\"anchor\" id=\"7.2\"></a>\n",
    "### 7.2 Browings an image with a slider\n",
    "\n",
    "We can browse the image using the function `browse_sitk_image()` from `pymsk`. It can have two parameters:    \n",
    "- `img`: a SimpleITK image. It is a *mandatory* argument   \n",
    "- `plane`: radiological plane to visualize. It is an *optional* argument with three options:  \n",
    "   - `\"f\"`, for *frontal* \n",
    "   - `\"s\"`, for *sagittal* \n",
    "   - `\"a\"`, for *axial*     \n",
    "   \n",
    " If not specified, the function shows the slice in the frontal plane.   \n",
    " More information on radiological planes for `.isq` images in SimpleITK and Numpy  [here](https://github.com/JCMSK/pyMSK/blob/master/doc/img/isq_image_directions.pdf)"
   ]
  },
  {
   "cell_type": "code",
   "execution_count": null,
   "metadata": {},
   "outputs": [],
   "source": [
    "# visualize image\n",
    "scanco_viz.browse_sitk_image(img, plane = \"f\")  "
   ]
  },
  {
   "cell_type": "markdown",
   "metadata": {},
   "source": [
    "<a class=\"anchor\" id=\"7.3\"></a>\n",
    "### 7.3 Visualizing three slices for several images\n",
    "\n",
    "The following code is meant to show how to create customized visualizations, *without* using *pyMSK* functions.  \n",
    "In this example we create a subplot where each rows corresponds to one image and each column shows a frontal, sagittal, and axial slice, respectively.  "
   ]
  },
  {
   "cell_type": "code",
   "execution_count": null,
   "metadata": {},
   "outputs": [],
   "source": [
    "# parameters\n",
    "n_of_images   = 3 \n",
    "\n",
    "# creating the figure \n",
    "img_dim        = 6\n",
    "figure_width  = img_dim * 3           # multiplying the dimension of one image times the 3 columns (frontal, sagittal, axial)\n",
    "figure_length = img_dim * n_of_images # multiplying the dimension of one image times the number of images \n",
    "plt.rcParams['figure.figsize'] = [figure_width, figure_length] \n",
    "fig     = plt.figure()                # creating the figure\n",
    "fig.tight_layout()                    # avoids subplots overlap\n",
    "\n",
    "# subplots characteristics\n",
    "n_of_columns = 3\n",
    "n_of_rows    = n_of_images\n",
    "axis_index   = 1\n",
    "\n",
    "# visualizing\n",
    "for i in range(0, n_of_images):\n",
    "    \n",
    "    # read image\n",
    "    img = scanco_io.read_isq_image(isq_folder + isq_file_names[i])\n",
    "\n",
    "    # get slice ids (SimpleITK format)\n",
    "    slice_id_s = round(img.GetSize()[0]/2) \n",
    "    slice_id_a = round(img.GetSize()[1]/5*2) # slice at 2/5th from the top to visualize bones \n",
    "    slice_id_f = round(img.GetSize()[2]/2) \n",
    "\n",
    "    # show frontal slice\n",
    "    np_slice = sitk.GetArrayViewFromImage(img[:,:,slice_id_f])\n",
    "    ax1 = fig.add_subplot(n_of_rows,n_of_columns,axis_index)\n",
    "    ax1.imshow(np_slice, 'gray', interpolation=None)\n",
    "    ax1.set_title(isq_file_names[i] + \" - Slice: \" + str(slice_id_f))\n",
    "    ax1.axis('off')\n",
    "    axis_index = axis_index + 1\n",
    "\n",
    "    # show sagittal slice \n",
    "    np_slice = sitk.GetArrayViewFromImage(img[slice_id_s,:,:])\n",
    "    ax2 = fig.add_subplot(n_of_rows,n_of_columns,axis_index)\n",
    "    ax2.imshow(np_slice, 'gray', interpolation=None)\n",
    "    ax2.set_title(isq_file_names[i] + \" - Slice: \" + str(slice_id_s))\n",
    "    ax2.axis('off')\n",
    "    axis_index = axis_index + 1\n",
    "\n",
    "    # show axial slice \n",
    "    np_slice = sitk.GetArrayViewFromImage(img[:,slice_id_a,:])\n",
    "    ax3 = fig.add_subplot(n_of_rows,n_of_columns,axis_index)\n",
    "    ax3.imshow(np_slice, 'gray', interpolation=None)\n",
    "    ax3.set_title(isq_file_names[i] + \" - Slice: \" + str(slice_id_a))\n",
    "    ax3.axis('off')\n",
    "    axis_index = axis_index + 1"
   ]
  },
  {
   "cell_type": "markdown",
   "metadata": {},
   "source": [
    "---\n",
    "<a class=\"anchor\" id=\"8\"></a>\n",
    "## 8. Hints  "
   ]
  },
  {
   "cell_type": "markdown",
   "metadata": {},
   "source": [
    "- To check what a function does, use the keyword `help`. For example:  "
   ]
  },
  {
   "cell_type": "code",
   "execution_count": null,
   "metadata": {},
   "outputs": [],
   "source": [
    "help(scanco_viz.show_sitk_slice)"
   ]
  },
  {
   "cell_type": "markdown",
   "metadata": {},
   "source": [
    "- To check a type of a variable, use `type`. For example:  "
   ]
  },
  {
   "cell_type": "code",
   "execution_count": null,
   "metadata": {},
   "outputs": [],
   "source": [
    "type(img)"
   ]
  },
  {
   "cell_type": "markdown",
   "metadata": {},
   "source": [
    "---\n",
    "<a class=\"anchor\" id=\"9\"></a>\n",
    "## 9. Dependencies"
   ]
  },
  {
   "cell_type": "code",
   "execution_count": null,
   "metadata": {},
   "outputs": [],
   "source": [
    "%load_ext watermark\n",
    "%watermark -v -m -p pymsk,pandas,SimpleITK,matplotlib,itk,ipywidgets \n",
    "%watermark -u -n -t -z"
   ]
  }
 ],
 "metadata": {
  "kernelspec": {
   "display_name": "Python 3",
   "language": "python",
   "name": "python3"
  },
  "language_info": {
   "codemirror_mode": {
    "name": "ipython",
    "version": 3
   },
   "file_extension": ".py",
   "mimetype": "text/x-python",
   "name": "python",
   "nbconvert_exporter": "python",
   "pygments_lexer": "ipython3",
   "version": "3.7.6"
  },
  "widgets": {
   "application/vnd.jupyter.widget-state+json": {
    "state": {},
    "version_major": 2,
    "version_minor": 0
   }
  }
 },
 "nbformat": 4,
 "nbformat_minor": 4
}
