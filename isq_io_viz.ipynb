{
 "cells": [
  {
   "cell_type": "markdown",
   "metadata": {},
   "source": [
    "# Reading, writing, and visualizing *.isq* files\n",
    "\n",
    "This notebook was created with the support of [SPECTRA](https://www.spectra-collab.org/)"
   ]
  },
  {
   "cell_type": "markdown",
   "metadata": {},
   "source": [
    "Content under Creative Commons Attribution license CC-BY-NC-SA 4.0   \n",
    "Code under GNU-GPL v3 License  \n",
    "By [Serena Bonaretti](https://sbonaretti.github.io/)\n",
    "---"
   ]
  },
  {
   "cell_type": "markdown",
   "metadata": {},
   "source": [
    "This notebook contains code for:   \n",
    "[1. Reading *.isq* file headers](#1)  \n",
    "&nbsp;&nbsp;&nbsp; [1.1. Getting the names of the *.isq* files in a folder](#1.1)  \n",
    "&nbsp;&nbsp;&nbsp; [1.2 Extracting information from image headers](#1.2)  \n",
    "[2. Creating a metadata table](#2)   \n",
    "&nbsp;&nbsp;&nbsp; [2.1 Getting image metadata from image headers](#2.1)  \n",
    "&nbsp;&nbsp;&nbsp; [2.2 Getting subject metadata and other metadata from a tabular file](#2.2)  \n",
    "&nbsp;&nbsp;&nbsp; [2.3 Merging the metadata tables](#2.3)  \n",
    "[3. Saving the table to a *.csv* or *.xlsx* file](#3)    \n",
    "[4. Reading a *.isq* image](#4)  \n",
    "[5. Saving an image to *.mha* with its *.isq* header](#5)   \n",
    "[6. Reading an image and its header from a *.mha* file](#6)   \n",
    "[7. Visualizing images](#7)  \n",
    "&nbsp;&nbsp;&nbsp; [7.1 Visualizing one slice of one image](#7.1)  \n",
    "&nbsp;&nbsp;&nbsp; [7.2 Browings an image with a slider](#7.2)  \n",
    "&nbsp;&nbsp;&nbsp; [7.3 Visualizing three slices for several images](#7.3)  \n",
    "[8. Hints](#8)  \n",
    "[9. Dependencies](#9)"
   ]
  },
  {
   "cell_type": "markdown",
   "metadata": {},
   "source": [
    "--- \n",
    "## Installing packages (only the first time)\n",
    "\n",
    "In this notebook we use:\n",
    "- Python scientific packages (i.e. matplotlib and pandas), which are part of anaconda (download anaconda [here](https://www.anaconda.com/products/individual))  \n",
    "- Specific packages:  \n",
    "    - [pymsk](https://github.com/JCMSK/pyMSK), which contains functions to read, write, and visualize *.isq* files. It also installs [SimpleITK](https://simpleitk.readthedocs.io/en/master/#) and [ITK](https://itk.org/)  \n",
    "    - [itk-ioscanco](https://github.com/KitwareMedical/ITKIOScanco), to read *.isq* images\n",
    "    - [watermark](https://github.com/rasbt/watermark), to print out the notebook dependencies for future reproducibility   \n",
    "\n",
    "In the following cell, the `!`  tells the notebook to execute terminal commands (so no need to open a terminal separately)  \n",
    "The following cell must be run only the very first time we use this notebook to install the packages. For the following times, we can comment out the cellby adding `#` in front of each command\n"
   ]
  },
  {
   "cell_type": "code",
   "execution_count": null,
   "metadata": {},
   "outputs": [],
   "source": [
    "! pip install pymsk\n",
    "! python -m pip install itk-ioscanco\n",
    "! pip install watermark"
   ]
  },
  {
   "cell_type": "markdown",
   "metadata": {},
   "source": [
    "---\n",
    "Imports:"
   ]
  },
  {
   "cell_type": "code",
   "execution_count": null,
   "metadata": {},
   "outputs": [],
   "source": [
    "# python imports\n",
    "import matplotlib.pyplot as plt\n",
    "import os\n",
    "import pandas as pd\n",
    "import time\n",
    "\n",
    "# medical image imports\n",
    "from pymsk import scanco_read_files\n",
    "from pymsk import scanco_viz\n",
    "from pymsk import write_files\n",
    "import SimpleITK as sitk"
   ]
  },
  {
   "cell_type": "markdown",
   "metadata": {},
   "source": [
    "---\n",
    "Variables:"
   ]
  },
  {
   "cell_type": "code",
   "execution_count": null,
   "metadata": {},
   "outputs": [],
   "source": [
    "isq_folder = \" \" # write here your path. Make sure it terminates with \"/\""
   ]
  },
  {
   "cell_type": "markdown",
   "metadata": {},
   "source": [
    "--- \n",
    "<a class=\"anchor\" id=\"1\"></a>\n",
    "## 1. Reading *.isq* file headers"
   ]
  },
  {
   "cell_type": "markdown",
   "metadata": {},
   "source": [
    "<a class=\"anchor\" id=\"1.1\"></a>\n",
    "### 1.1. Getting the names of the *.isq* files in a folder:"
   ]
  },
  {
   "cell_type": "code",
   "execution_count": null,
   "metadata": {},
   "outputs": [],
   "source": [
    "# getting the folder content\n",
    "folder_content = os.listdir(isq_folder)\n",
    "\n",
    "# creating the list for .isq file names\n",
    "isq_file_names = [] \n",
    "\n",
    "# getting only .isq files\n",
    "for i in range(0, len(folder_content)): \n",
    "    \n",
    "    # getting file extensions\n",
    "    filename, file_extension = os.path.splitext(isq_folder + folder_content[i])\n",
    "    \n",
    "    # get only the files with .isq or .ISQ file extension\n",
    "    if \"isq\" in file_extension or \"ISQ\" in file_extension:\n",
    "        isq_file_names.append(folder_content[i])\n",
    "        \n",
    "print (\"-> Found \" + str(len(isq_file_names)) + \" .isq files in folder:\" )\n",
    "for filename in isq_file_names:\n",
    "    print (filename)"
   ]
  },
  {
   "cell_type": "markdown",
   "metadata": {},
   "source": [
    "<a class=\"anchor\" id=\"1.2\"></a>\n",
    "### 1.2 Extracting information from image headers  \n",
    "\n",
    "- To read the .isq file headers, we use the function `read_isq_header()` from `pymsk`  \n",
    "- For each image, we will get two lists: \n",
    "    - `keys`, containing all the information labels (e.g. *pixel_size_um*, etc.)\n",
    "    - `values`, containing all the actual values (e.g. *82*, etc.)  \n",
    "- Then we save the `keys` of the first image into the list `all_keys` - we do not need to save the keys for every image because they are the same   \n",
    "  The values in `all_keys` will become the column names of the table\n",
    "- Finally for each image we add the list `values` to the list of lists `all_values`  \n",
    "  The values in `all_values` will become the content of the table"
   ]
  },
  {
   "cell_type": "code",
   "execution_count": null,
   "metadata": {},
   "outputs": [],
   "source": [
    "# initializing list containing keys and values\n",
    "all_keys = []\n",
    "all_values = []\n",
    "\n",
    "# for each .isq file in the folder\n",
    "for i in range(0, len(isq_file_names)): \n",
    "       \n",
    "    # get keys and values from the header of the current image\n",
    "    current_keys, current_values = scanco_read_files.read_isq_header(isq_folder + isq_file_names[i]) \n",
    "\n",
    "    # save the keys of the first image in the variable all_keys\n",
    "    if i == 0:\n",
    "        all_keys = current_keys\n",
    "\n",
    "    # add the values of the current image header into all_values\n",
    "    all_values.append(current_values)"
   ]
  },
  {
   "cell_type": "markdown",
   "metadata": {},
   "source": [
    "--- \n",
    "<a class=\"anchor\" id=\"2\"></a>\n",
    "## 2. Creating a metadata table \n",
    "\n",
    "- We want to create a metadata table containing:  \n",
    "  - Image metadata from *.isq* headers  \n",
    "  - Subject metadata and other metadata collected by an operator in a tabular file (e.g. *.csv*)  \n",
    "  \n",
    "  \n",
    "- To handle tables, we use the python package [pandas](https://pandas.pydata.org/), imported at the beginning of the notebook"
   ]
  },
  {
   "cell_type": "markdown",
   "metadata": {},
   "source": [
    "<a class=\"anchor\" id=\"2.1\"></a>\n",
    "### 2.1 Getting image metadata from image headers\n",
    "\n",
    "- First we create the image metadata table where:  \n",
    "  - `all_keys` will be the table column names \n",
    "  - `all_values` will be the content of the table    \n",
    "- Then we insert a column at the beginning of the table containing the image file names for reference    \n",
    "- Finally we drop the column *fill* as it just contains zeros"
   ]
  },
  {
   "cell_type": "code",
   "execution_count": null,
   "metadata": {},
   "outputs": [],
   "source": [
    "# display all pandas columns and rows \n",
    "pd.options.display.max_rows    = None\n",
    "pd.options.display.max_columns = None"
   ]
  },
  {
   "cell_type": "code",
   "execution_count": null,
   "metadata": {},
   "outputs": [],
   "source": [
    "# create dataframe (=table)\n",
    "isq_headers = pd.DataFrame(all_values, columns = all_keys)\n",
    "\n",
    "# adding column with file names in position 0\n",
    "isq_headers.insert(0, \"file_name\", isq_file_names)\n",
    "\n",
    "# delete column \"fill\" because it just contains zeros\n",
    "isq_headers = isq_headers.drop(columns = [\"fill\"])\n",
    "\n",
    "# show dataframe\n",
    "isq_headers"
   ]
  },
  {
   "cell_type": "markdown",
   "metadata": {},
   "source": [
    "<a class=\"anchor\" id=\"2.2\"></a>\n",
    "### 2.2 Getting subject metadata and other metadata from a tabular file\n",
    "\n",
    "- We read the tabular file `subject_data` containing information about subjects and acquision protocol. Find a template [here](https://github.com/JCMSK/nb_gallery/blob/master/data/tabular/subjects_scanco_template.csv)  "
   ]
  },
  {
   "cell_type": "code",
   "execution_count": null,
   "metadata": {},
   "outputs": [],
   "source": [
    "# read the table\n",
    "subject_data = pd.read_csv(isq_folder + \"subjects_data.csv\")\n",
    "subject_data"
   ]
  },
  {
   "cell_type": "markdown",
   "metadata": {},
   "source": [
    "<a class=\"anchor\" id=\"2.3\"></a>\n",
    "### 2.3 Merging the metadata tables\n",
    "\n",
    "Finally, we create a `metadata` table that is the combination of `isq_headers` and `subject_data`. We do the merge by using `scanner_id` and `meas_no` as keys  "
   ]
  },
  {
   "cell_type": "code",
   "execution_count": null,
   "metadata": {},
   "outputs": [],
   "source": [
    "# add the subject data to \n",
    "metadata = pd.merge(isq_headers, subject_data, on=[\"scanner_id\", \"meas_no\"])\n",
    "metadata"
   ]
  },
  {
   "cell_type": "markdown",
   "metadata": {},
   "source": [
    "---\n",
    "<a class=\"anchor\" id=\"3\"></a>\n",
    "## 3. Saving the table to a *.csv* or *.xlsx* file  \n",
    "\n",
    "We can save the dataframe to several different file formats. Here we save it as:  \n",
    "- *.csv* (open source)\n",
    "- *.xlsx* (proprietary)  \n"
   ]
  },
  {
   "cell_type": "code",
   "execution_count": null,
   "metadata": {},
   "outputs": [],
   "source": [
    "# save to csv\n",
    "metadata.to_csv(\"metadata.csv\")\n",
    "\n",
    "# save to excel\n",
    "metadata.to_excel(\"metadata.xlsx\")"
   ]
  },
  {
   "cell_type": "markdown",
   "metadata": {},
   "source": [
    "---\n",
    "<a class=\"anchor\" id=\"4\"></a>\n",
    "## 4. Reading a *.isq* image\n",
    "\n",
    "To read an image, we use the function `read_isq_image()` from `pymsk`, where:   \n",
    "- The argument of the function is the image file name  \n",
    "- The returned image is a SimpleITK image"
   ]
  },
  {
   "cell_type": "code",
   "execution_count": null,
   "metadata": {},
   "outputs": [],
   "source": [
    "# define the ID of the image we are going to read\n",
    "img_ID = 0"
   ]
  },
  {
   "cell_type": "code",
   "execution_count": null,
   "metadata": {},
   "outputs": [],
   "source": [
    "# read the image\n",
    "img = scanco_read_files.read_isq_image(isq_folder + isq_file_names[img_ID])"
   ]
  },
  {
   "cell_type": "code",
   "execution_count": null,
   "metadata": {},
   "outputs": [],
   "source": [
    "# print out the usual SimpleITK image characteristics\n",
    "print (img.GetSize())\n",
    "print (img.GetSpacing())\n",
    "print (img.GetOrigin())\n",
    "print (img.GetDirection())"
   ]
  },
  {
   "cell_type": "markdown",
   "metadata": {},
   "source": [
    "- It can take some time to read *.isq* images as they can be big. To know the reading time:"
   ]
  },
  {
   "cell_type": "code",
   "execution_count": null,
   "metadata": {},
   "outputs": [],
   "source": [
    "# start the timer\n",
    "start_time = time.time()\n",
    "\n",
    "# read the image\n",
    "img = scanco_read_files.read_isq_image(isq_folder + isq_file_names[img_ID])\n",
    "\n",
    "# stop the timer and print out \n",
    "print(\"Reading the image took \" + \"{:.2f}\".format(time.time() - start_time) + \" seconds\")"
   ]
  },
  {
   "cell_type": "markdown",
   "metadata": {},
   "source": [
    "---\n",
    "<a class=\"anchor\" id=\"5\"></a>\n",
    "## 5. Saving an image to *.mha* with its *.isq* header\n",
    "\n",
    "To save an image, we use the function `write_mha_image()` from `pymsk`, where the arguments are:  \n",
    "- the image  \n",
    "- image file name  \n",
    "- metadata keys. This is an *optional* argument. \n",
    "- metadata values. This is an *optional* argument.  \n",
    "\n",
    "The image is saved as a *.mha* file\n",
    "\n",
    "In this example we save the image all its metadata"
   ]
  },
  {
   "cell_type": "code",
   "execution_count": null,
   "metadata": {},
   "outputs": [],
   "source": [
    "# preparing the arguments\n",
    "\n",
    "# image file name: substituting .isq with .mha\n",
    "root, ext = os.path.splitext(isq_file_names[img_ID])\n",
    "mha_file_name = root + \".mha\"\n",
    "\n",
    "# the image keys are the column names of the dataframe, transformed into a list\n",
    "img_keys = list(metadata.columns)\n",
    "\n",
    "# the image values are in a row corresponding to the image ID (note that IDs start from zero)\n",
    "img_values = list(metadata.loc[img_ID,:])"
   ]
  },
  {
   "cell_type": "code",
   "execution_count": null,
   "metadata": {},
   "outputs": [],
   "source": [
    "# writing the image\n",
    "write_files.write_mha_image(img, mha_file_name, img_keys, img_values)"
   ]
  },
  {
   "cell_type": "code",
   "execution_count": null,
   "metadata": {},
   "outputs": [],
   "source": [
    "# writing the image with no metadata in the header (not recommended)\n",
    "# write_files.write_mha_image(img, mha_file_name) # uncomment the command by deleting # at the beginning of the line"
   ]
  },
  {
   "cell_type": "markdown",
   "metadata": {},
   "source": [
    "---\n",
    "<a class=\"anchor\" id=\"6\"></a>\n",
    "## 6. Reading an image and its header from a *.mha* file  \n",
    "\n",
    "Once we have saved the *.isq* file as a *.mha* file, we might want to reload it for subsequent analysis maybe into another notebook or pipeline. The image that we read will be a *SimpleITK* image, so that we can use *SimpleITK* functions to process and analyze it. Here are the *SimpleITK* commands:"
   ]
  },
  {
   "cell_type": "code",
   "execution_count": null,
   "metadata": {},
   "outputs": [],
   "source": [
    "# reading the image\n",
    "img = sitk.ReadImage(mha_file_name)"
   ]
  },
  {
   "cell_type": "code",
   "execution_count": null,
   "metadata": {},
   "outputs": [],
   "source": [
    "# print out the header of the image\n",
    "for key in img.GetMetaDataKeys():\n",
    "        print(\"\\\"{0}\\\":\\\"{1}\\\"\".format(key, img.GetMetaData(key)))"
   ]
  },
  {
   "cell_type": "code",
   "execution_count": null,
   "metadata": {},
   "outputs": [],
   "source": [
    "# print out the usual SimpleITK image properties\n",
    "print (img.GetSize())\n",
    "print (img.GetSpacing())\n",
    "print (img.GetOrigin())\n",
    "print (img.GetDirection())"
   ]
  },
  {
   "cell_type": "markdown",
   "metadata": {},
   "source": [
    "--- \n",
    "<a class=\"anchor\" id=\"7\"></a>\n",
    "## 7. Visualizing images   "
   ]
  },
  {
   "cell_type": "markdown",
   "metadata": {},
   "source": [
    "Before visualizing an image, we can determine the figure dimension using the command below:"
   ]
  },
  {
   "cell_type": "code",
   "execution_count": null,
   "metadata": {},
   "outputs": [],
   "source": [
    " plt.rcParams['figure.figsize'] = [5, 5] # the values are in inches"
   ]
  },
  {
   "cell_type": "markdown",
   "metadata": {},
   "source": [
    "*Note:* Figure dimensions remain constant throughout the whole notebook. To change the dimensions of a following figure, copy/paste the previous command with the new dimensions right above the new figure"
   ]
  },
  {
   "cell_type": "markdown",
   "metadata": {},
   "source": [
    "Here are some common ways to visualize images:"
   ]
  },
  {
   "cell_type": "markdown",
   "metadata": {},
   "source": [
    "<a class=\"anchor\" id=\"7.1\"></a>\n",
    "### 7.1 Visualizing one slice of one image\n",
    "\n",
    "To visualize one image slice we use the function `show_sitk_slice()` from `pymsk`. It can have three arguments:  \n",
    "- `img`: a *SimpleITK* image. It is a *mandatory* argument \n",
    "- `slice_id`: id of the slice to visualize. It is an *optional* argument. If not specified, the function shows the slice in the middle of the stack  \n",
    "- `plane`: plane to visualize. The directions are with respect to the scanner gantry. It is an *optional* argument with three options:  \n",
    "   - `\"a\"`, for *axial* \n",
    "   - `\"v\"`, for *vertical* \n",
    "   - `\"h\"`, for *horizontal*     \n",
    "   \n",
    " If not specified, the function shows the slice in the axial plane.   \n",
    " More information on planes for *.isq* images in *SimpleITK* and *Numpy* [here](https://github.com/JCMSK/pyMSK/blob/master/doc/img/isq_image_directions.pdf)"
   ]
  },
  {
   "cell_type": "markdown",
   "metadata": {},
   "source": [
    "Showing a slice with default parameters:"
   ]
  },
  {
   "cell_type": "code",
   "execution_count": null,
   "metadata": {},
   "outputs": [],
   "source": [
    "scanco_viz.show_sitk_slice(img) "
   ]
  },
  {
   "cell_type": "markdown",
   "metadata": {},
   "source": [
    "Showing a slice with specified parameters:"
   ]
  },
  {
   "cell_type": "code",
   "execution_count": null,
   "metadata": {},
   "outputs": [],
   "source": [
    "scanco_viz.show_sitk_slice(img, slice_id = 550, plane = \"v\") "
   ]
  },
  {
   "cell_type": "markdown",
   "metadata": {},
   "source": [
    "<a class=\"anchor\" id=\"7.2\"></a>\n",
    "### 7.2 Browings an image with a slider\n",
    "\n",
    "We can browse the image using the function `browse_sitk_image()` from `pymsk`. It can have two parameters:    \n",
    "- `img`: a SimpleITK image. It is a *mandatory* argument   \n",
    "- `plane`: plane to visualize. The directions are with respect to the scanner gantry. It is an *optional* argument with three options:  \n",
    "   - `\"a\"`, for *axial* \n",
    "   - `\"v\"`, for *vertical* \n",
    "   - `\"h\"`, for *horizontal*     \n",
    "   \n",
    " If not specified, the function shows the slice in the axial plane.   \n",
    " More information on planes for *.isq* images in *SimpleITK* and *Numpy* [here](https://github.com/JCMSK/pyMSK/blob/master/doc/img/isq_image_directions.pdf)"
   ]
  },
  {
   "cell_type": "code",
   "execution_count": null,
   "metadata": {},
   "outputs": [],
   "source": [
    "# visualize image\n",
    "scanco_viz.browse_sitk_image(img, plane = \"h\")  "
   ]
  },
  {
   "cell_type": "markdown",
   "metadata": {},
   "source": [
    "<a class=\"anchor\" id=\"7.3\"></a>\n",
    "### 7.3 Visualizing three slices for several images\n",
    "\n",
    "The following code is meant to show how to create customized visualizations, *without* using *pyMSK* functions.  \n",
    "In this example we create a subplot where each rows corresponds to one image and each column shows a frontal, sagittal, and axial slice, respectively.  "
   ]
  },
  {
   "cell_type": "code",
   "execution_count": null,
   "metadata": {},
   "outputs": [],
   "source": [
    "# parameters\n",
    "n_of_images   = 3 \n",
    "\n",
    "# creating the figure \n",
    "img_dim        = 6\n",
    "figure_width  = img_dim * 3           # multiplying the dimension of one image times the 3 columns (frontal, sagittal, axial)\n",
    "figure_length = img_dim * n_of_images # multiplying the dimension of one image times the number of images \n",
    "plt.rcParams['figure.figsize'] = [figure_width, figure_length] \n",
    "fig     = plt.figure()                # creating the figure\n",
    "fig.tight_layout()                    # avoids subplots overlap\n",
    "\n",
    "# subplots characteristics\n",
    "n_of_columns = 3\n",
    "n_of_rows    = n_of_images\n",
    "axis_index   = 1\n",
    "\n",
    "# visualizing\n",
    "for i in range(0, n_of_images):\n",
    "    \n",
    "    # read image\n",
    "    img = scanco_read_files.read_isq_image(isq_folder + isq_file_names[i])\n",
    "\n",
    "    # get slice ids (SimpleITK format)\n",
    "    slice_id_s = round(img.GetSize()[0]/2) \n",
    "    slice_id_a = round(img.GetSize()[1]/5*2) # slice at 2/5th from the top to visualize bones \n",
    "    slice_id_f = round(img.GetSize()[2]/2) \n",
    "\n",
    "    # show frontal slice\n",
    "    np_slice = sitk.GetArrayViewFromImage(img[:,:,slice_id_f])\n",
    "    ax1 = fig.add_subplot(n_of_rows,n_of_columns,axis_index)\n",
    "    ax1.imshow(np_slice, 'gray', interpolation=None)\n",
    "    ax1.set_title(isq_file_names[i] + \" - Slice: \" + str(slice_id_f))\n",
    "    ax1.axis('off')\n",
    "    axis_index = axis_index + 1\n",
    "\n",
    "    # show sagittal slice \n",
    "    np_slice = sitk.GetArrayViewFromImage(img[slice_id_s,:,:])\n",
    "    ax2 = fig.add_subplot(n_of_rows,n_of_columns,axis_index)\n",
    "    ax2.imshow(np_slice, 'gray', interpolation=None)\n",
    "    ax2.set_title(isq_file_names[i] + \" - Slice: \" + str(slice_id_s))\n",
    "    ax2.axis('off')\n",
    "    axis_index = axis_index + 1\n",
    "\n",
    "    # show axial slice \n",
    "    np_slice = sitk.GetArrayViewFromImage(img[:,slice_id_a,:])\n",
    "    ax3 = fig.add_subplot(n_of_rows,n_of_columns,axis_index)\n",
    "    ax3.imshow(np_slice, 'gray', interpolation=None)\n",
    "    ax3.set_title(isq_file_names[i] + \" - Slice: \" + str(slice_id_a))\n",
    "    ax3.axis('off')\n",
    "    axis_index = axis_index + 1"
   ]
  },
  {
   "cell_type": "markdown",
   "metadata": {},
   "source": [
    "---\n",
    "<a class=\"anchor\" id=\"8\"></a>\n",
    "## 8. Hints  "
   ]
  },
  {
   "cell_type": "markdown",
   "metadata": {},
   "source": [
    "- To check what a function does, use the keyword `help`. For example:  "
   ]
  },
  {
   "cell_type": "code",
   "execution_count": null,
   "metadata": {},
   "outputs": [],
   "source": [
    "help(scanco_viz.show_sitk_slice)"
   ]
  },
  {
   "cell_type": "markdown",
   "metadata": {},
   "source": [
    "- To check a type of a variable, use `type`. For example:  "
   ]
  },
  {
   "cell_type": "code",
   "execution_count": null,
   "metadata": {},
   "outputs": [],
   "source": [
    "type(img)"
   ]
  },
  {
   "cell_type": "markdown",
   "metadata": {},
   "source": [
    "---\n",
    "<a class=\"anchor\" id=\"9\"></a>\n",
    "## 9. Dependencies"
   ]
  },
  {
   "cell_type": "code",
   "execution_count": null,
   "metadata": {},
   "outputs": [],
   "source": [
    "%load_ext watermark\n",
    "%watermark -v -m -p pymsk,pandas,SimpleITK,matplotlib,itk,ipywidgets \n",
    "%watermark -u -n -t -z"
   ]
  }
 ],
 "metadata": {
  "kernelspec": {
   "display_name": "Python 3",
   "language": "python",
   "name": "python3"
  },
  "language_info": {
   "codemirror_mode": {
    "name": "ipython",
    "version": 3
   },
   "file_extension": ".py",
   "mimetype": "text/x-python",
   "name": "python",
   "nbconvert_exporter": "python",
   "pygments_lexer": "ipython3",
   "version": "3.7.6"
  },
  "widgets": {
   "application/vnd.jupyter.widget-state+json": {
    "state": {
     "034e9772a5f344cdaff1a30c2ea35c9e": {
      "model_module": "@jupyter-widgets/base",
      "model_module_version": "1.2.0",
      "model_name": "LayoutModel",
      "state": {}
     },
     "1017178887ca4107a54128c6e05def30": {
      "model_module": "@jupyter-widgets/controls",
      "model_module_version": "1.5.0",
      "model_name": "BoundedIntTextModel",
      "state": {
       "layout": "IPY_MODEL_bed66ec5c99e49ebb6b69fddd722fa0a",
       "max": 1535,
       "style": "IPY_MODEL_460bbfd12ab643b7a3c8c4ad9142f1b6",
       "value": 768
      }
     },
     "1106ab1dadd2462fa3609c7b6177ff6d": {
      "model_module": "@jupyter-widgets/controls",
      "model_module_version": "1.5.0",
      "model_name": "VBoxModel",
      "state": {
       "children": [
        "IPY_MODEL_cb08511f7a5640c98422851e60344221",
        "IPY_MODEL_9fc06881a0064c618c7d28f47ebbb028"
       ],
       "layout": "IPY_MODEL_5ca79b78e7bb434fa031ab4ec1e10073"
      }
     },
     "205ac9ae1e374a67ac72b1cf443e5db3": {
      "model_module": "@jupyter-widgets/base",
      "model_module_version": "1.2.0",
      "model_name": "LayoutModel",
      "state": {
       "width": "180px"
      }
     },
     "28c98c037b5f446886c7d08eb048f635": {
      "model_module": "@jupyter-widgets/controls",
      "model_module_version": "1.5.0",
      "model_name": "VBoxModel",
      "state": {
       "_dom_classes": [
        "widget-interact"
       ],
       "children": [
        "IPY_MODEL_3b671a78f6df442b919e538dae7e2b8f",
        "IPY_MODEL_9fc06881a0064c618c7d28f47ebbb028"
       ],
       "layout": "IPY_MODEL_aae9f8314b9b4396be255d67393c5711"
      }
     },
     "3b671a78f6df442b919e538dae7e2b8f": {
      "model_module": "@jupyter-widgets/controls",
      "model_module_version": "1.5.0",
      "model_name": "IntSliderModel",
      "state": {
       "continuous_update": false,
       "description": "Slice n.",
       "layout": "IPY_MODEL_205ac9ae1e374a67ac72b1cf443e5db3",
       "max": 1535,
       "readout": false,
       "style": "IPY_MODEL_e5b3212d673d4e259621d678353ade10",
       "value": 768
      }
     },
     "460bbfd12ab643b7a3c8c4ad9142f1b6": {
      "model_module": "@jupyter-widgets/controls",
      "model_module_version": "1.5.0",
      "model_name": "DescriptionStyleModel",
      "state": {
       "description_width": ""
      }
     },
     "5284bf1e90724f21836fe4c2858521ac": {
      "model_module": "@jupyter-widgets/base",
      "model_module_version": "1.2.0",
      "model_name": "LayoutModel",
      "state": {}
     },
     "5ca79b78e7bb434fa031ab4ec1e10073": {
      "model_module": "@jupyter-widgets/base",
      "model_module_version": "1.2.0",
      "model_name": "LayoutModel",
      "state": {}
     },
     "9c8f8a37215940a9b1fd8efc907de662": {
      "model_module": "@jupyter-widgets/base",
      "model_module_version": "1.2.0",
      "model_name": "LayoutModel",
      "state": {}
     },
     "9fc06881a0064c618c7d28f47ebbb028": {
      "model_module": "@jupyter-widgets/output",
      "model_module_version": "1.0.0",
      "model_name": "OutputModel",
      "state": {
       "layout": "IPY_MODEL_5284bf1e90724f21836fe4c2858521ac",
       "outputs": [
        {
         "data": {
          "image/png": "iVBORw0KGgoAAAANSUhEUgAAASUAAABKCAYAAAD9skJMAAAABHNCSVQICAgIfAhkiAAAAAlwSFlzAAALEgAACxIB0t1+/AAAADh0RVh0U29mdHdhcmUAbWF0cGxvdGxpYiB2ZXJzaW9uMy4xLjMsIGh0dHA6Ly9tYXRwbG90bGliLm9yZy+AADFEAAAgAElEQVR4nOy9yZJk13G1u6Lv+y4jMrKrQhULxQYgRInSQCNN9Bwa6Dn4v4Qmego9hCSayWQgCIIECtVkZRt935zo7yDu57mj9DNxDRpcDuqYwQBUZkWcc7Zv9+XLl/v27XY7fbw+Xh+vj9dfyuX///sGPl4fr4/Xx8u9Pjqlj9fH6+P1F3V9dEofr4/Xx+sv6vrolD5eH6+P11/U9dEpfbw+Xh+vv6jro1P6eH28Pl5/UVfwsR/++te/3vl8Pi0WC/n9fvl8Pvl8Pm23W202G202G81mM4XDYQWDQe12O/v5crnUbrdTMBiUz+dTOBzWer2W3++X3+/XdruVJAUCAa1WK4XDYW23W/l8PgWDQc3nc0WjUUnSdrtVIBDQYrHQZDJRPB5XMBhULBaT53nabDaKRqNar9eSpPl8rkAgoM1mo0gkouVyqWAwqGg0qtVqpd1up8VioWg0qmAwaM8RCoXs/z3Ps/vMZDKKRCKazWaaTCaKRqPyPE+RSESStFgsFAgEtNvtFI1GtVwuFY1G7e8Hg0GtVit1Oh3lcjkFAgFFo1G7h36/r0AgoHA4rNVqpWQyqWazqUwmo81mo91up81mo2AwqPF4rEAgoGQyKZ/Pp/V6rclkomKxqN1up+VyqUgkosVioWQyqX6/r1gsptVqpUgkosFgoGKxqF6vp/V6rXg8rnA4rGQyqfF4rPV6rVgsptlspvV6rWQyqWg0av/PlclkNBwOlc/nlU6ndX9/r1gspmAwqLdv3+of/uEf5Hmerd9isdB0OpXf79d0OrX1zeVyajQaKpVK+u6771Sr1ezvTCYT9Xo9FQoFDYdDhcNhpdNpSVIymdRgMLDf9fv9ms/nSqVSWq1WkqThcKhkMqlwOKzRaKRoNKpwOGzfFwwGtVgslEgk7P5DoZCy2awGg4FOTk603W715MkTDQYD1Wo1zWYz+f1+hUIhrddr+4z1em3vJ5vNyvM8rddrBQIBTadThcNhxeNxdTodxeNxeZ6ndDqtwWCgTCajyWQiv9+vXq+nwWAgz/O0Wq0UCoU0m82Uz+clSev12p4vFotpMpkoGAwqHo9rMplovV7L5/MpEAhou92affDOJMnv9yscDisajWoymSgSiWg6nSoSiWi329neXK/X9rNoNHpgh+v1WuFwWMvlUuFwWLPZzPYDfzeTyWgwGGi5XCqbzdoe3m63+uqrr3x/zu88ipRms5kWi4UkKRqN2kJMp1MtFgt5nqd4PG6/v9vtFAgEJMmcUSgUss253W4PHjoYDGo6ndoC8j2LxcIW2+/328PsdjvbRJJsg0ajUY1GI41GI1uUcDisXC4nSUokElqtVubAUqmUvcBQKGTPxiZfrVbmVFjs6XSqXq+neDxuzpXnY6PwGWySzWaj7XaraDSqTCajSqVin7XZbMxRZbNZ+f1+c4jc02q1MqMKBAJKJBKKRCL2bkKhkBmKJHP8GNhkMlEoFNJyuZTneVosFur1elosFlqtVkqn0/L5fBqPx1qtVorFYtpsNmo2m1oul4rFYuZkpX0AqVQq2u12ZqipVEqS9POf/1yz2Uw+n+/AISUSCc1mM7XbbQWDQb18+VJHR0dKJBIKh8Pq9XqKRqNqNpu28WazmYbDoZbLpcrlsgWLYHAfQyeTiRqNhhKJhJLJpNkI9xqJROzzo9Goer2eksmkAoGAPM9TsVjUZrORz+ezzc8GTyQSisfjqtfrOj4+Vq1Wk+d5qlQqZu+TyUSe52k+n2s2m6nRaJhth8NhW0MCB7a+WCwUiUTMJiQpn89rs9kokUjI7/dbAJnP50omk1qtVspms5pMJhqPx2bDu91OjUZDwWBQyWTSHJDP57MgGwwGLUCyT3Gku93OHOF0OlUikdBms5Hf77d3xbPghMbjse1xgjQAJJlMarPZaD6fm32zTxKJhAEZwMdj16NOCc+6XC41Go3keZ69BDbBbrcTAkyfz6fJZKLtdqtEIqFyuWx/B+8eCoXMqfAd8XjcnMB8Ptd2u7Wou91uLcrHYjFtt1vN53NDPz6fzxYTpBEIBDQYDNTpdMzAN5uNksmkSqWSfD6fYrGYdrudBoOB/R02OAZCBEokElqv10qlUtput4pEIkomk7bx3YiyWq20WCy0WCy02Wy0XC7Vbrc1GAw0mUxUKBTsnfp8PmWzWTWbTTMgSbq/v9dut7PvS6VSCoVCmkwm9u6y2azG47Fms5mhltlspl6vZw5zNptpPp8rGAwqEAgol8vp+PjYkBaGGwqF1O125XmeksmkTk5ODE0ul0szxlgsptvbW2UyGRWLRQWDQTPc8Xisn/70p0qn07ZuqVTKnimRSOjp06d68+aNIYf5fK5er6dAIGB/j/cUi8XMNkqlkuLxuDkcUOpqtdJoNNJkMjHHvFwutd1u1Wq1FI/HzVn0+30LSDw7qHE2mykWi+n58+eSpNFopEQiod1uZ8FyvV6bg3/69Kk9YzQatTXNZDKKx+MaDocajUZqt9vabDbKZDJmD9gwwWs8Hps9RiIRBQIBC3bT6VShUEiSzHlyL2Qnnuep0WhoNBoZgiP7IFPZbrfmlKLRqDmIYDAov99vSJR97XmePM8zwBCJRA4cHqAE9BcIBGydU6mU0um0wuGwoVCCNcGM4PKjnBI3R8Tc7XbyPE8+n0/FYtEMKRAIaL1ea7FYKBaLWWSeTqfKZrMW1ZPJpJbLpZbLpdbrtaVZ6/VanudpMBgoHo9bKhEKhWwBV6uVOSdSNVKjXq+nzWajQCBg/6TTaUNthULB0FSz2dRkMtFwOJSkg2cC9nqeZ2lpp9OR53kKhUKGUnw+n5bLpYbD4UFKGolELDoHAgHN53N7f/zearVSIpGwhcERRKNRMxSegRSS32PjEa2j0agikYh8Pp8KhYLC4bDy+bzW67Xa7bai0ahIv5fLpa6vr825JZNJZTIZrVYrjcdjS0knk4k6nY6941wuZ5tuNBrp4uLC7vdnP/uZOaZ0Oq1PPvlEfr/fIDqOMZvN6uTk5CC4VatV5XI5HR0dabPZ6O3bt6pWq8pms0omk1qv1xqNRrq+vtZsNjuIxjzXcrm078LJ73Y79Xo9HR0d7Q3c71epVFImk9F6vTaHkcvldHFxodlsZpsqHA6rUqno4uJCiURCy+XSUqhms6l+vy9J6vf7hua73a45geFwaEGLdWI/kAKHw2H5/X6t12vNZjOlUil5nqfb21stl0uzefZQo9HQer1WIpEwh4RjyWaz5shA5+wngjrfNx6P7f+Xy6WKxaKh2eFwqHQ6bQEWGoJADw1SqVTMyQUCAc1mM3meZ8ER9Mhz8E7IGgKBgGKx2KMO6QedEkgBmBuJROyFjsdjjUYjLRYL43iA0jwIKVMul9Nut9N8PrcNDJ+z2+2Uz+cVDAaVzWbtxZPykVqBmEixiJzdbtdSHTyyC59BcYFAwBwBKRrRHCRABJGkcrms7XZrm53cmGu1WikYDKpSqRykhkDbYDCoo6Mj+znOijR0NBoZUgkGg5pMJppMJprNZkqn01oul9psNioUCloul4Ymo9GoBoOBWq2W8WaBQEDtdtve29HRkQqFgqU9nucpm80ajI7FYrq7uzPDKpVKmkwmB0a3Wq10dHSk8XisxWKhUqmkbDarUCikn/zkJ8pms5Ze+f1+dbtd/elPf1KtVjNU6qZYILrtdqtQKKRWq6VyuWx/P5/P6927d5rNZmq1Wlqv1/Z9g8HAovirV6/MBpPJpCFyEEgikVA+n9dkMtFqtdLNzY0CgcABjxKPx9Xv99XtdtVqtZTL5ZTP5zUYDJRKpfTkyROVSiX5/X5Vq1VtNhul02lLuVirZDJpDpQNt1wuDe1IMnsiBWSzEgzhI0mf7u/vjddKJBIqFou2yV17Xq/X6vV6kmQBE8QIXTCdTg9QFTbP2oA24cMIggQy6YESICX0+/1KpVKWXvJ5LkghYENrkBbiaH+otc332C/86le/2vESISlBJ2zw+XxuEQq4DuQl8pOSsYDklXz3YrEwh+T3+zWbzSydY1GBkslk0h4Mron8F0NerVaW00oyYtHn82k0GhlxDdG83W4PyFciG8iM6EL6QMpDaooRQmp6nneQO6fTaTWbTYu+7ndIssgo7VPgZDKpbrero6MjM35IXd7zZDJROp3WaDSydxGLxYw3evLkiebzuRHenU7HDDcSiej4+Fjj8VjJZFJ3d3fK5/Pa7XYaDodGsHN//X5fz58/NwQwHA6VSCSUSqU0m82UTCb17NkzvX371gLDcDi0qEiK0Ov11Gq1NJvNLBqDWLvdrpLJpPERvBccCZtlOBwasf8htwfvAp/EerAG2+1Wg8FA2+1W1WpVnU5H0j7lSKVSxu1Vq9WDNAN+LRKJaDQaKRAImMOeTqeGtEjjSfNYfzcVJ0gQkFgjnPzXX39t1IG0503h7djYpGVwkJIOAnYymbS0fTAYGE9FkKIAksvljIdl3UjpuD+X8wSNkYpiDzhtv9+vyWSi3W53kEaS+sFJS9LXX3/944ju3W5nUYmXkk6n7WZAN6Cp3W5n3hRoDVLCq/J5LvJhAWazmRk5UYSNmk6nDdpnMhnbhESTSCRim26xWBxUi2azmSRZ/g93tFqtDrw/pDzfg5NdrVaG7nhOKlV833a7VbvdNoeJ041Go7q/v7fc+vj42FKyxWJh8BYCMhKJGCE4n8+NNwGpplIpDQYDI4Ln8/kBqQqaAm1QYSESHx8fG+fiVhMnk4khEqpikszRgyrr9boymYxtlGAwqFwup/F4rEajoaOjI9vg8/nc7v39+/e6uroyRxWLxXR5ealQKGTOGp4HZ0gVlE3MBsxmsxqNRhoMBrq7u7OqbCAQUKlUMge/Wq0Uj8cViUTUbDYtTZWkTqejUqmkRCKh8/NznZ6eGne1WCxUqVTMuVE4mM/nkmR8Ext6OBwal0LaC0mN3cG1YtPxePyA54Rgjsfj5kCXy6UymYxlLNPp1LghChI4AUm2N0ejkRWRcJCbzeaA7M5kMkbcp1IpI+nZ8+xlqqGQ66wdqAw0RtUQBwTdAp9FkCNDeux69Kfk9W5uCtnqbixyU8/zbFF4ONAMTg1kQeWI3BwEBakG/8RnwyEsl0tNJhOlUinjLOBwhsOhRSrSxGAwaFEBJAS05jPdSEzlZjweH1Ta3KjnPj8bk+pPLBYzhwV6SyQSGgwG5jwg9F+8eKHb21uTN4BK4bAajYaq1ao5FUlWvTs+Plav19PJyYnxDkRkqoY4u5OTE3333Xf2vvL5vFKplHF9/X5f+Xxe2+3WnHksFtOnn35qCIvAIMnSMCQKo9FIb9++1T/+4z/qt7/9rQKBgLLZrBGobGhS62w2q1arpXQ6rcvLS8ViMRUKBQWDQXOeRNjnz5/r3bt3VqaHvJZkhL3neTo5OdF8PjeEIO3TGmzv6OhIg8HAbJmU2a0Y+3w+VSoVjcdj4ynh6YbDoYLBoKXWw+FQhUJB0+lUuVzOghE0Bf+PE4zH4+Zwt9utyuWyOVmqyEgBKKXjEHGE2BH0Bf+4PC0Bst/vy+/3q1gsajwem4QHm+Q+sQO/3y/P8yxrILDCMyYSCbMfKoKujAZ74+8TtHCu7PEfqrxJP4CU3I334Z9BbOF4XLSEEZOmEGEgb0EylEjdzT2dTu0l83McWDabtVI/eTQ8lyRVKhVJsnQRIhgyMZvNGsHooj9XjuDz+dRoNDSdTs1YptOplUm5X7fSNRqNjODb7XZKp9O2eZAjAJuHw6FV+1qtlpLJpJHncGzwJ+fn5xoMBkokElYd8TzP0ABEPDqj6XSqTqejfD6vTCYjSaYhCoVCqlQqSiaTKhQKisViGo1GGo/HpgniHlKplKUH5XLZSOLBYKBut2tVJDgdNvnXX3+tWCymly9fWqolyYoekOluwYG1jEaj6nQ6arfb6nQ6Vu2kOrderw+0OpKsABOPx/X73//eeDZsibI3qXoul7Pfh7v7/PPPja8D2VGZ5R24EhW3yjoej7VcLi219vl8Rg1Ie6SGE2m1WsYPQpDjKObzuVEdwWBQw+HQnBlFGtIqZBzIGNj0q9XKghO2wfsGnZI6EiAovLg0BRkB2Q0X0hGyI/ZVLpc7qAKiV6KQhV1RnCFreex6lFP67LPPdnAjRB24DMr/eN94PG7lTbzicrk0jwlnQPUM8hz0QhpBGoJjQjNExGCByNkpkft8vgN4y8Jtt1ul02ktFgtbCNAfaRxIic+Fx2EDgFLQHbnEH/AaY47FYhblhsOhcrncQXrGoiN6QytycXGhZrNpkoJkMmnvJJvN6ubmxt5du91WPp83dDYcDlWtVq06RAo4n8+VyWSUyWQM4XmeZ5ucNLterxsx7HmepSJA716vZ4QrAYhozBqDzlwnJEn1el3ffvutBYa3b98qGAyqXq/r6urKUClrwfosl0vl83klEgkrDqCtgsvx+/0ql8uWGsViMUM0XMvl0kjuXq+ncrlsFEGhUFC9XjcnNB6PTTfU6XRUKBS0WCxUKBTU7XYPND4u3wn6dCkM0G42mzXnDHp2nQHBAwSMHITvQvhIQYYgTAYyHo/t/tn88EGgtdVqZfQEhDbrS5UYpARS5ftdndpsNlMikbBqX7vdPtCyhUIhE3u6lAxUC7aXTCb129/+9sdxSkB0+B+qUfAlxWJRmUzmQBmK3oeKCqV2oupms7GX6TqPXC53IHKE66G0mclkLH2cz+cGXdlcIA5X70MEJrK7XBhXIpGwl+pyGqShRBsqdtls1p4HJS6pHjwHL75SqRzIF4DD9/f3dh8Y6Z/+9CdbQNALzwcaokpSr9cNbfX7fXOSfr9fuVzOVOzZbFbHx8eqVCo6OTlRuVw2BFupVJTNZlUsFjUYDCxl4l0QlREZknag+iUQRSIRvXr1SplMxlKnWCymer2u0WhkXBQVOlDF73//ez158kTv3r1To9GQz+czJFav11Wv1w3RDgYDe2ds3mw2q3K5rFarZUQ0SMHzPPX7fUPvSDCOjo603W51enqqaDSqTz75RLVazZytqyErlUrGl/COJVlKxXrCdYKcKIIgSQC1E4xQmG+3WxWLRbN3lxQGmU2nU2UyGcsUcNDb7VbD4dDeJTyOq9/jPUynU3u3ksxu3EIMAQV06NIxru4NYp1sg8wFpwZ/RXrpCpMpUiHQfez6QaQENwMiwWDx4nAyRAEeiJSF6AGPBAriheC1+UwcAUgJvgZuwNV3UJYEnoIwPM+zygowmOiIHoNNtVqt1O/3rVrD4iJaQzM0Go2UzWa12+3UbreN06J1gHIoyIeKBz+jLM7nsPiUanGeGPf5+blFXNJhHDDIAfFlt9tVIpHQ2dmZGR3VxrOzM8XjcSsB49jYhFRYcrmcId90Om3CS7ia6XSqZ8+eqdlsWooIwVkqlUwlDldyfX1tkgXS38VioevrayNjZ7OZjo6OzBm/f//eJAJsQLdMnUgkLA3EvnCWXNgWqB1Nzmw2O+B1nj9/rlgsZkgXO6Z6h4wjkUio0+lYZoBoFeRHlYnvRYdGVZQCx2w2Uy6XM54UmQsiRO75+vraggyAgGqXG3TT6bQFO7daDYJFagMCQidFC0wikTAb8TxPhUJBPp9PvV7vQNxMqgeC517RLbK/Wd9IJKJut2vVRPhJMhLu5T//8z9/HFICZroCPlAIESAYDBrhhRNgU0L84d3J2SF6d7udyuXyQQ5NZGTjoP9BUxEIBAyBhcNh4y5wQuPx2IwHdFWpVCwiumRlp9NRt9s1HRU9TFR9SAncKpbnearVauYkMHLgbiKRsEWgekHUQvAG18HnQjY2m03jpECdOC/y/mQyqWq1eqBqDgQCKpfL2u12ur+/t6hVrVb15s0bNRoNHR8fG5+CPGMymeju7k5HR0eGhmKxmLrdroLBoAqFgq3ter3W3d2dRqOR8vm8xuOx9YPhqBOJhN6/f6/hcKh+v2/c13A41Lt379TpdEwASbvHcrnU3d2dptOpjo6OLKXsdrum5UH3hrPiz0iLBoOB2u22JpOJWq2W5vO5VQ1JP0HpuVzOBJIET5AXFEO/3zekTl9iLBazd0eqDOmLQwN1Q/yGw2GFw2HFYjGjDiRZHxi2FQ6HdX9/b5Vct/jjqr1Bazhr7BP0SjUYhAL6x1nTGoL0A9TDPoN7xNYImkgdqMwixyAjcrsbXOoD/wAo6Pf7dq+P+p3Hfgif4jojvoAKFvmtmxKRppB/wzWEw2EjqKkmkBJiaOl0WsVi0So1bnkYKEiejafGG5NW4vSoDLjCQlIVCNpisWjRF6NJp9PWAwWqImVBOIqBuKkpbQW8u0qlYr8HbHe1JTxbu91WMpnU2dmZOU20VnAtpL2oyPksUCOOoVwum46GKhjPIcnK+qPRSPF4XPl83ooKpA7IAUg75vO5crmcCTXRoYASC4WCLi4udHl5qSdPnphMYDgcmqG3Wi01Gg29f/9e8/lcR0dHhi5OTk4OghLkKbwUpXxQaCqVUiAQUCqV0mg0MrsincS5woEQJCm/F4tFk35QxodOgHzHduE8SQVDoZDa7baq1eoBugZZ4mgk2UYGWb17986QPKpwSSYAHo1GRgvAq9GXGIlErODg2hKkO9IJ7jWbzRr14QoXKb64VAYokKLOZrNRt9s1+5ZkDpnfBaWxp7rdrtENFE7gH/EBhULhQFrw565HJQHciFteR0hI2sXCSzJHRKkVgs0tu6M3obOYkiYEMuV9orOrZaK5E+OhYlIulw/Edxh4r9dTKpVSOBy2VBMhYSqVMgNyhYtsYL/fb5HYhf6kLZDJwGkXknOBiBA/uiSkJIPCsVhMzWZT1WpVfr/fqmhIFNgYOJzpdKqLiwvjfViDQqFgkQuOjT6l6XRqyufxeGxKc1cNjFGjYOfd3d7e6uzszNADDrfZbGo+n+v6+lrSXgXPBgFhx2IxtdttQ2cQzqTa7nuixxBxJuI/CgnwX4gOM5mMVSZRp+OgkYKAWEajkQqFggKBgIrFoumnCIaopXnX8/ncuEJQPQWXcDisfr9v301axXOzbrS8wIVC6uP4oSbcFiIIcHhNt4cSBAa1QbqG4p49yLo2Gg3bxwiIsXdI8A/1cbFY7EA8SVDGjmnClfZ87Hw+N/IdVL1YLKzAReUd2QGVwceuRzmlv/7rv97hpV2FKzoGt3ub3JbyK3kn6IOID4no3mQgEFAmkzkQ8yUSCfO+LBilU+4Z4hWnhRPl5SNPwOnBaaGBAlnhDJvNpgksWVgUt1TVgOc4ThCHy4EhY8ChA2PhgijjslGByHBDjC9JJBKmyaLyCeeCQJKmZ9TfoVDImmXhHiA5aVHJZDIaj8eqVqtGjmI4ONqnT5+aPIMJDEdHR6bwhUdBqTwYDGw0Sq/X093dnVarlSqViqFTggCNyfAZ4/HYtD7wHgSpbDZrqTkbBxtxq7DoZBqNhjKZjHK5nDm/WCymdDqtTCajer1ujpf7LpfLevPmjS4uLmwTgY5BPdvtVr1eT/V6/aA3Eq6FNAgag41J32E6nTbhK0gPwarf71er1TJUD88IjwbnCfpgL7m9gB+O3uF3WU8kAsPh8CDtQkvG/biqcD4TG8QBuQ6L/Ykqnf33YZZDdoQT/Pd///cfX32DWMZrA0nxhPS9uekVkJGqASiLSEz60+v1rN+Mbm+cGBHIHZ3CZ/IdQFRJlo/jFHCEGBU8DVEQUhL+BB5qt9up2WxqOp0a10XuTWndzd8lGSlLRKc6gyYHLYvbCpDP522B4cF4dn6HQEA7jCSbCxSLxZTP59VoNKztJJfL6eTkRJFIRFdXVwcVNapGVNRAvKztbrfT0dGRkZ+3t7fy+/eNnPBz8Ex03cdiMWuraTQatllBX1SwpL2mCAkAtsTasAnZvDh3Ngb8GevOvWBPoLLVamUaLFIGV+2OQ6fBl1S52Wxa8QEbb7VapjPCttPptCER2qIoNuTzeatoBoNB6+ckhXFtjREko9HI0Hk+n1ev1zsgt0mnSaHgLlOplEql0kExhtQJbRBVQEhoCiSFQkHlctkCF03EIGpsk0AtyZ6V4ERAAPniIHkm3gv7DeElQOSHBJQ/6JRcz0/+6KZ0aIkwMAxFkqVv0oO0nQgDYQbclh7GmLg9ZqQvyOThj1yeB6e32WzUaDSM42Lzoj0CRrORaEOg7A3qy2QyisViKhaL6nQ65rTY4JIsTUTun81mTXTmOlOMDENDI3R3d2coiX8zMmQ8Hpu+iJSEcSE///nPFYvFTI379OlTFYtFa8IFsqfTaVUqFS0WCx0dHVkHPMaJIUJ4UzCoVquGjAeDgUqlkm5ubuw5CAr1et2c5Xg8NpkCjcsUH3Cw2+3WChRsJJThtC24xg7qAalR0UJqQvqB46KqGAqF1Ov11G63JckkK+i60um0qtWqVc9I6xhxQ7WqWq1aPyOSBhCt265BqrvdbtVsNm0zs1+w61AoZAiGCp870ws0jX2R4lDBI9UF5boD7uCVXETk9/stMJASwn01Gg0NBgMTf/Is8Gg4FmyYdqdCoWBUBPtpPp+b2h56hIIE+8NNTTudjt37n7t+MH1jsSVZakZqg7aCSEBEI9oCL0nt2PSugpRFxlPDJex2D7NXqEIsl0tNp1Mbu0AuiwaC+5JkuStcDhMHqRSwIcm1XW0Hjo9ojAFz75TO0QW5BDBpHD1/ICg33YNjQ1UcCAR0d3enarVqVZ7dbmf8ied5+slPfnIgxZjP53r27JlFRwyEniafz6d6vW4GQLBwgwm6rFwuZ71qcIUElKurK2ukns/nyufzOjk50XQ6tbEd6XRa//Zv/2aKZTRrlNVzuZyNJikUCmo2m9putyYLAMHc3d3p/PzclPShUMjaOUj1CID0lbG2rDeq+nK5bM+DJsnn8xmfhNgXFIxglKLD7e2tisWi4vG4ut2uarWa6cVw0ARKd7QKqmVG8FDNhcSm3Wmz2Rwg8a+++srSHLevjiJOBroAACAASURBVOejqEHKj7YJlI4TIUiw16h0kr1IMqeB/IWCFkgplUqZk+cfpBdQHu6z8/dJYQk8cHv8XUTFfr9fX3755Y9L37gZWH8MAnjuCqmkh+l6oVDIEBI5P+MjVquVSqXSQcMpaRCGTHqFgyHP9/v9NpJDknFQpFKUkNG2YPDwFpVKxVIwSHOISPgTKjMuAQnvRQqWy+VULpeVy+WM+ETMhhNjlg79ShgVLQ1u5ELghpHi1JhP9OTJE6v+RCIRZbNZlUoltVotayPAyPz+fTNlLpczBTSGQfsM1RIQATosF46fnJzo8vLSjK1er+vJkyeSpMvLS0myDfgf//EfyuVyarVaxiXC5bg80Xg81vfff2+bLRKJqFwuKxjct7Yw1RIOyOfzKZ/P6/b2Vp1Ox+wEUSocFWvApnQ5R7fiWSwWLRDiOAuFgqXtvLftdqt6va58Pq+7uzvF43G9fv1a0WjUJke6gkc4QIJVKpU6cBaQ5MgP2EesNdyXa4f5fN7kIgQmdEfsTXhI98LJgPKoMuIgCKBoj0ivcFxkKOwBEBfgA+cHpwjKh2N2VeKgQ5fqICg+dv3gwQGDwcDIUelhGiVaCQyZjQ7fQm7LBsNh8QIwXjYSL5FcnxeG4NGNUEBNCNdisWiRl/tAAsBcF74fo5lOp1ZpQIlMKRMC1W3cBRkSTb799lsrI49GI6XTaWtYdTklmmchC3FcGEgsFlM2m9WTJ0/05MkT+Xw+Izu73a7Oz8/NgDabjZW+SVskGadDmZq2iOl0qi+//NI2Jxs5GAyqVqvp5cuXBrNjsZilW1Sy6HFC7sCQOKYrTiYTvXr1yhS7iOVIgdFHYS8EKxAakwrghJjNxcSB+/t7NRoNm9pA5RHBps/nszSr1+vZelJ+hx95+fKlzs/P1Wq19O7dO9toFGZASZIM+UnS1dWVkdVorrrdrqWp/X5fo9HIlMw4YdYrEAhYb18+nzeEBMoieLrKbfiyXq9nQ/g8b9+3eX19bRQErVPSnn8FhdMjinOhMBSJRGyagYs6cYIgNtAQfBT8jzv5lFYcuFJ4Y5AxbVzIZ9w9TYb0o50SSm5gHikUpVO/32/kF/9NhYvIgDOJxWK2wGxkV9ODV2aMBdUAIjoEGYsSCoXU6XSUSCQOZmezEHhsn28/Q4mXQV57dHR0kMuTjpFjs6hUMCaT/YhWomO9Xrd3AUwfj8emFKcAwCgMhpUh8QdNYTSkFaiiqRTxWbTmtNttMyo2PI6bVGE8Hts4l+PjY02nU+sLJEr3ej199913hoBXq/1QN9aFdw3ZikIdAlh6KD5wyAFzdyqViqXZt7e3Vk6+vb2199nv9w2ldLtdE1/e398bh1apVBSPx01nFggEVK/XD9prII+5F8hb7IrGb9JVeBaeaTqdqtlsWmqEoprCB6in3W4bSvb7/cpkMhaQoTQk2ZwpkHa73T4ot4N22eigeQhtqBK4I9aBNQWtQIqjSgcV0wa1Wq1MKoL2CP0Z6MbV5bklfPRwtNEASKR9JY3vhgpBcMnzIWf4sNINRQBq+nPXozolHIGbJ0LUEpUwBNoxGJYmySYAQt7RboJndnUabjuKpIM82tX1SDqYN8yL8rz9ZD88OLARtTbGQHWIqZludQ+Ox52VxIgG3gXfTYQl3QS50ChKlOHzEXeenZ3p6urKEADO+/Ly0ohpd1wupeV6vW7GyOJzP5DuOGbabECYoAxKyzgi+rNwep1Ox0aobDb72dIgLni1Uqmk29tb0z5xD7e3t7ZJ7+/vLT1hXtJ0OrUpnszDApExNmW1WhlfSKA4Pj42LvPq6sr4NhwA3AbVO0SMZ2dnZhNU005PT23DFQoFq34RcKkyDgYD1et1NRoNU2Uz25wgAlKhGrVarSxN+5DbgxReLpcmGI5Go3aCivsZcJCU2ZlDhg4O6QCVRYbMsX8I9CAcSHhXgY20hYzC8zzLEFh/NG6gHsBArVYzFOR+F1wnrSQ8UygUsso39vdD16NIidSLjUdTLi0eRFIqAMPh0FIzN22THkbQ0n6xXD4MKMPT8oCgDJdspvrFZ6HyXa/XZuwQwGgziIRU16gq0CoAGqIfCAIRB8I0RhYYuMoCDYfDA2PAAdAxjcPE2W63W11dXRlHA2Kim3y73eqzzz5TOp22CiN/vlgsdH9/b1WWVqtlaUsulzPCkU0O54AquNVq2bx0BrGhfcJoUTvz+ZJMG0Wkvr6+1qtXr2wUK2vzxRdfWJVvOBza5wwGA33//feWjr9588bSaFJXDHW9Xuv9+/cm7yD9XiwWOj091cuXL41zYkOyCVhLguhgMDDug2osKTmbHCEplbC7uztDQn/4wx+sf4vix3q9NiEoVSWcDAEPxHN7e2tcDjwURDotV6enp6b14TsQvsJfueOECX68W3rRSB9BxOxBZAFuozX8GxwaGQrOGZBA1kFng9s3R0EJUOES4FQkSYkjkYjG47GNagkGgwZa/tz1g+NwifQYDsbg5ow4D27WVYR6nmdEuZt7AmlZMNoIOPkBz40T4fuR4+MQgYoMDXMrBW60AULm83nTBuF8aBoFdeAQSBOB1cFg0IZmjcdjK09TXZRk1cDBYKDT01Nz0NwvhsfnQWDz/s7OzpRIJNRoNBSNRnX+/85U8jzPyGEOVUDzQiqYTCZ1f39vkR80SyULp0CDsCt0K5fLevfunSFK9Dq8T8hxiNRgMKhGo6F6vW5jVeDdQFlwi251DHtgrhS2Q+Mr5DXvyEUZpGmoscvlsqSH2UntdtumUh4dHen8/Nyen3ug4ZgUGK6N89hAxawN2QA6unK5bMgxGo3a5AN0TBDvLlIkcLm6P5zobDbT9fW1URQEP4pJBH3euSs4BlWjXGcvQ2bjtOAi3VHB7F8I6vl8bgp1lOvuQD1X4Er1GoU6mQH34/KvOGPsBc73sXPfHnVKv/zlL3eQXjyoJENMGAP5vturhTSAkiYR2dW7QAyymV2ymfQO2T/wHGREpYNypLsRpUO91IfPwFQ+tFN4+0KhYPoNtwOfZ0aL0+v1DKrTtkLExPEA+2mr4F7cOU2MOCHq/eIXv7C52UgieJ8MqENVi5ob/gCnnUwm1ev1NJvtDwRwNwPOHY4LZ0DKy7C6crlsA+AKhYJ+//vfm1EtFgtrdKaFpFgsGh+ETmU0GqlardrYXrg2t2kTVTWFgmQyaZooLgbgx+Nx2xSMiUEQCvdJcJnNZnry5IlOTk6sh9KN5oVCwZwDJXamVrp2ggQilUrp+vra3gvEM0gDm8L5k3L7fPuBgZvNRk+fPtXNzY2Gw6Gl4oFAQM1m0xAwgRlS2hUv0h8HyY8wNhgMmoMlQLOnXGkACAibnEwmNjTvQwBAIYCqMSiQLAYtHVQGqRuBhOfgu7AHbNTzPH3zzTc/ThIgychhCFIeAEQAhCYKQSAS2Yg8GBgpBZuY38NwKK+6OSrEKFEPlEPzIlUbOqZRIbOozHTiOXCUICNIbkhiF5HAwSCzJ+dHF0U1j3t3YbPbb8eiIzybTCam16nVavrpT39qDb2ID6mmuKpvoi6pkktII/aMRqOq1+uWJmCcOCh6ufr9vjqdjt03DvXq6sqMnMFxg8FAlUrFmowpHjCjCDKaPjj4qPX6oU+Q+UogkGazKUm2OUDAbARQB2NW4AZns5npnUDVcC2ZTEY+n0+np6cHfCUTKnDCoHmQ82KxsLErONlnz55ZQOJ0G2QprmC43W6bUyQwku5AlF9eXlpT7Wq1sgoj743Uxi34SPvMBI6OwIgzoHqGbRFIWEdQCzbEPkSQS2UMYOJyWmQJ7GnSX8/bD2akQgknhX0Fg0GbHMrvM5oGB/W/qr5hrOSgbpmQPBr+h45pvDll3nA4bPoVvCkEOA4ONAD6AWW57QhudMZwpYcTU3hgoCopD6Mj3G57SGFaD9gwnF8Fb8HvuiiIyoEry2cRccgu/GXhXL1QrVZTsVhUsVhUKBTS5eWlWq2WVTpBWiw86S4OiYiIoTC14f379zZWpdlsGnqlEkO6WigUbKaRtC9A3NzcqNPp2CkkvV5P7969M9SVzWZ1e3uraDSqn/70p3ZqK2khY1pevnxphxZUq1X7fCoxRM9QKKSzszO1223d39/bZ+CwmPH98uVLvXz50jY41cDNZqNarWbpSDK5PwEGXRcbDP4C1bvLd7ptG/BQoPfJZGKtM3znYDAwXgVOE0eFrAJ+Z7Va6d27dzYrDAdJunxzc6PXr18ftLzwM5w38hnQCbwoVTlsDUcJD8X3BINBc/TYDHsHSQ+oCscUDAbt4E7Se1Ak3BsZC3vCTR1xhtLDlFj2HvPcceZ/7vpBRTfENmQhBKcrnsRhAdOBnzg0ytfNZtOcAU6LFwXqQtYPp+EOmOKFM46CjUaaw8+Xy6VxCxgsLzwajdpRQGxSiHrK+y45T+5NWfT+/t6cqjv90pUteN5+Yh/VL9CBz+ez2T2cwuI6806no0qlcqA/YggaJV0qhO1229DY8+fPdXV1pXQ6rU6nYzk9zhopA0JRBJ1opzqdjrWthMNhvXnzxgwVno/3g8MlVYfM3u12Oj09PYD8fAbrS7rB0T5EaXekaiqV0vn5uW5ubg4mH5Ci0pMHOnS1YtHofqLmcDjU559/flBwoBmaMjmd+shJmP/Ec+HQCEqg7+FwaAJYigv8t7RPf6jgudVenBsVq263a71+BBBJhgIJ0q6GiAKTJJuiQfrGrCKXNMduXVKfSh1jX3AqXPw5e4nnInOg/w/b4mAIeFH4KegBeivxDfDHjw15e9Qp/dVf/dUOT05PmitRd6tvkJb0JFH5gPh2K1goVvlzPLrbBuHCfjY9L5T7QGbv9/utk5zK1Wq1ssoN0blYLNpCQxgSLXGe0kM3PSM90N3w3dLD2JF8Pm9IkNSBRUNSwMahcXIwGOiLL76wzxmNRsY5EADQ/JByUgXp9/tGisM1UVHhSJ1CoaCbmxvrU2K0LGe64XCRRDQaDTNYyNvtdmtqeBAnToQmYNaPqmU+nzf0BU+DlIBCBBUkNhZjkC8vL3VxcaHtdqtcLqdcLqd2u33QeQ+vCKpYLBaGyqSHQyBSqZRevHhhQYhpilRLSev5N5VX+tIovriTLrEPHAROrlQq2aRFqoU4EKpzTEzgZBh67Eajkcrlsg2hIwW/ublRqVQy3kvaq9gR1VI5cx0YiIq1DYVCRnlQgMI5kGJS/KEJ2t1jBFLuwU25XNoFW+e+kHlEo1GTCMGdsqfX67X++7//+8dxSjgjboh/k8K4Ggc8M3kxRCDIBUKcxXZ7cjAqjAgvDHvPzyGxIVNBClSqKJ0irMOYKE1yn6ATUp/JZGJ6DJ7PNWJJ1jgM/OWzaQo+OjoySQSyfLeTvFarGWIpFov2mQjxcFyQ0DgRt1qEw+L3WINAIKBut2uO3m0clvbaJqol6/V+XtHV1ZWhqvv7e5VKJTWbTTUaDZVKJavkseZIOBA20mQKsZ7JZNRqtVStVu2gy36/b1NEKWPTaAzipSft008/PUDGr169sm54KjmkdaBR1M6IedlkJycnkmTpOkie8jqBgjXkmdLptHXRs8lcLZzLLxLM0N7gJNnknueZ4ptgwqQASabyBs2znuPxWKVSyXhEvhd+E14IRA+Zzt4iaGInOFEkPZT/pb0+jakRqVRKkUjEOvv5fLf4hIOiYR7b4/cg+Xln9JfCJSMHwtH+uetRpPTs2bMdGwsYDxLAC7q9RpQdeZFEDF4A6RxyASIz3BIGyaakNOyKv1wtBM7KPSnWrb7B5bglWaYD0taA4fV6PXNqEPk4R0rA/F2uTqejQCBgx15j/BhNp9MxlMFoC6qEkUjEPgtuazAY2CgLF13CZbjOebvdWlWoVCpZWweVGip17uwqvmswGOjLL79UpVKxZyDl22635qQoNHQ6HdXrdXNApAggJFLp2WxmKSmNrcPh0DbffD7X8fGxoSdmZ1cqFaXTaUNgoAxOrgUNgYyXy6UuLy9t9C9zh9iMP/nJT7RYLFQsFtVoNFSr1awxGR0RBRJJxntiU4xOhhultC/J0n1sGiRPJkFhiP5AFOfMZgfRs+lRsFN0gXsC9eIoSAFp8wEYYKs4P+4RJO/KEGgGJjvhHxdluxkEtss7IvsIBPZHjdGQDdfHvnfbSigI8V0UHR6TBDyq6AZy8d84odlsdjCczC1DsnjcAIQo5Bh5PtUElwSjCgMSgWzDabgvne/luB20SK1WS7Vazcrqkozs5eVRIYCkXC6XlqKh0obv4vPQHgH/1+u1zcxxG4hJAUCKiOEkWdULA2Qqp/sZCOcGg4GV/4nMGBlpBFU1V8F9d3dn3yvJKlg4eyQP7tldyA9Ia1lvxrAwe5t5S7Q2vH371rRVu93O+tpobH79+rXOzs4k7Y9aarVaFoCePXt2MGkCIrvdbqtQKOj6+trK7JSwqbyS7rDGOMF6vW6bgzPI0FHR3EsQouJ2enqq6+tre++IFOfzuSqViiEPuLRgMKi7uzuzeVcPR+bAlAV+ztTJ+/t7G9eCGJhUkUyjWCyq3+9bIQkHTpWRAx62262ljAQDkD0IniAPF+TSFAQF9hPgAq0Rc6ykh4myOH2mYaApYy/jkKBgaNIG4ZIiuhzW/+16NH1zdRxwODgkd7i/2wXtOinP82zGDOQnGxIjoEL35MkTrddrQ2KU+FFpuwgLR7lerw/SRLfVAsW1G+lIGXjBbvoEsqA5l2fhe/1+vyEpxsBSDQGussn4Pqp3IEtUzJL0/Plzm0jApiSKkGqB6LgXWmMSiYQ5xA9n/cAdUKVxRXDff/+9ms2mjo6ODvqwcN5Mu+SoIaolu93OxqBwsMD333+vRCKho6MjqzpeX1/bu/v+++/N4adSKd3c3Gg2m+ns7MyqYK6GCKcMIc8zwuVRMYxEInaMFEdKI+BbLBZ69uyZJpOJzs7ObMNSeSKFoo8NfgxboihC4GGeOIQvPXKM/cVxQApzxNbV1ZU5NzY3Nst8LrdzAKeHjMJtNWGfsdZIHEB1LtGM1CEcfpjAgT2AhtmfOKT1em1oEzTDXiJd5M/wAWQecEhUOHknBGiCJvQJaT/P/KOcEpsCfQybCggZDO5bOSiXAht5OSAeogjlbpCAO4mO9EmSDXYDosLkMyOH0icldEl2dBIOlO+m6xzhHA2ixWLROAdU3KVSyZ6ZC/XqdDq1GdrHx8fy+Xw2ya/b7ZoeRZJNH+Sz4LUgGql+wYsVi0WLKOl02sSZGBQKYapD0+lU/X5fvV7PuBQcPE4cfoRCwOvXry2nv7q60mq1P1rq3bt3Wi73I4rv7++tPYIhad99990B/7fZbGwOFWNn1uu1aY5Y/9PTU52dnRnhDVHvaleIsDRXU9GE15Aejla/vLxUr9ez2dhsAhxquVxWpVKxcbigLEShIPdUKmV2VigU7Ej3Uqlk3fakOxxZBeKggILznM1m1jYCmkNWMhwOTXzJxSEOBEdJpjdDMY4DwFmUy+UDroc1cFXjFCyCwYeWKdA1YlwKUyjJ4VEZP8PEBrfySCZBikdwxgniE5C7SA9nKhLcCUztdtvS5f8Vp/R3f/d3OxwDZCP5YSaTMQIbFDCfz02zAMHI77sTAkmlIOYou7qfz3/TOEl+yxgRPpuFcTVUQGg3SrqlycFgoGKxaFUZNgsbzD1phTYOVxWN88O5ISngnDR4BHiXZHJ/LNJgMLBTRiBFaUMIh/fD0JjgR9pCx3s0GtXJyYktLqgMaQAqZVJI3iENtbFYTN99951Fw1KpZOR6q9Uy3RQCTu5/u92q2+3q2bNnpnnBgeFAcQ6ff/655vO5ms2mnZLiNlSXSiWVy2Xl83nd39/r/Pxcq9VK19fXqlQq9h4Zp8KgNYJKMpm06Zq/+93vjHPEPplB5Orqer2eJpOJBRIaeNnU2Wz2f2i5XOfKz9xNTTrGCJd3797ZRuv3+0Y9uJtUkmmL4EVxulStcd5IKOBzXJEnaTxrg4Mg0PM92D/2yqEJ2LHf7zetXa1WO6iwce8ACdAvIAJHBcfKfpD2olkCGsgKXwA57vc/PuTtByUB3CTpgas8BQFRamezk2dCPPPfH04CcLUWwD0WjXw2GAyaRobFw4lgjOTAENu8VAzKbfyFb4GjAG5igJCVCBM53phubypgjD0hdQH+Q0pzIgfVHd6L9BAd6YFi8xHJpQcozLPgQHnX4/FYL168ULPZtDaNbrerdDpt6BC18Gq1MkfR7XYNeQK7MTxpT8zSekMUJJritHDYpPHJZFJ3d3cHxt1sNm2o3hdffGE9bNPp1M6pJ/KCZKjMgk55TjZkOp22Cs/NzY054Xa7bUdzsZnc0b8o4OlZBCFRtSONgtyHG4I7oRrljgQB4b9588bIa9KSzWZjJ0kzy5w94bZiuFoiGmldHleS0SAEbZyQ9HCaiPQwRoaGdElWiCC4MTAO218sFoas2GugK9ZYeqi24wMQKZP5cM8f9r+R8vE8UBq73U6/+93vfpwkAAdEJHQ7g3mxzE5m8cbjsTVtuurv3W5n84RYQJS5wEVO74DrwGFls1lDADgJ0MBmszGh5na7tXPRWBhGJzA0PxAIqNPpGJcB3A6FQiqXyxZl3SZacm4cEopp+DUiEY6SnBy4Dwo7Pz+3Kh6oq9VqHTTHUvpFWkCneLlcPhCBbjYb3d/fH7SDkBIwgKzT6ajdbttnolFhjRAtum0TpAlMCeh2uzYYDV0MTayu0ZGm0PW/3W71q1/9ShcXF2q32zYK9fj42OYbdbtdU8LzPhAVwgXm83n7ucvXMUMKMSo9aHA1jCJmVMn9/b2VsuGWpIdxun6/3w7SBMHSj4cYlrQKp/TmzZsDnQ5IgpST5lO3eCDJdHOgOtAwGjL2iLQXn3K8t5vCkSnwfe6eoJhChgEviEaOQI+mD6dLUzSfBy+FMyJwUZzhzxDiupIVZDnsH2yPrOmx69HqGydRQJTyBfA6LI7b8gCvQQWCqhvRChLaFbBRZaLFgQ2DV4WsJWrAvfBiyPc/TLfIkSFkm82mDboi4iPPn81mlnZBONJo6QrukNkzSeDu7k5nZ2d2um08HjfRHdGCk0fgkdjspVLJNC2gEZz8brezwwU42JE1iEQihoiA9jQKM6qEFLndblvVCLhfKBR0f39/oFvi7DyQLO+G+yQVq9frVi1dr/fzqnw+ny4vL40zCQb3RzSh+CaQ7XY7tVotmwbAz+lZpJLGMeKgaxAwfYmUoSVZyuXynZT4qW4eHR3ZJobrkGS6q9lsZk6KcSr0a1Hu5/eo6l1dXRmPViwWbYA+2QCOGZRBeu4iYFJCHLw7EsRN0bgvpkOwb+CHGGODY2cv4oRBnq1Wy+QmkqyPkPfId0sPGkS+C86MZ6GIA1ICPTFdlfUALBAwea7HrkeREmfNc9M8NCgHp0S0Y3NBkPHS0VcA4YF7OA6IT+Yj097gRp9er2fkNp6XhyRak0pSocDLSw9pHv1ax8fHWq/3Exh7vZ5J63e7nTUU9vt9VatVQyncJ06VMaZuRSMY3I+xpYGUUrfbXhKJRP7HOFuOi+r1ehoMBpYSUA5Op9N2ICTOEz7HbYR21b30ATLBEfHecDi090iRAnU4m/XJkyd2rDkbAEElqTQjaSXp9PRUfr9fz54909OnT+1wRHcQ22630yeffKLT01NLjalMep5niAF5B2kERQ8QLOtDder6+tq6ClKplBHW8EZ8NtwQ7zuVSlnfXSDwMAZ3tVpZejObzWxWGFW11Wqlq6srQzwQy/BwkqyEz++g2WIfuJNScSA4RvZJPp+3VDwWi5nzZo8QKGh7KZfLB2idgIAMJxAI2Bhj0kCkLnwmjg4dHXvCHW4IvUEGxawk126lh55HvgeQQhbzo5wSaQYvj38gB7k5biCRSNiR13AzkkwkB9zEWcDVICeg/Ok6GYhApicyqIqFpJrFIsBNoYZ221RwKPwTjUYtHQTu8hJdbobyLlUnyEacIotDmuRquur1ukKh/exlHCL37Pf7rTy9XO6PzmZUBgQ9Y3chbUGlbmrjitWoZEmylIPZ2qQk8XjcnEYgENDx8bHu7u6MFK/VavrjH/9oeiRaW4jqvFsIzWAwaCiqXC6rUCjoZz/7mXEqlPaRJcAtsGHo65Nk87hBUlSPUBxTMscGfv7zn9vwN5ycq0JH10OwIJqDRhnpyqhWKorIQzqdjm5ubvTu3Tvd3d1pPB7r9vZWtVrtQN/D3+H9sP7RaFRPnz5VvV4/EIUSWBiGdnJyYvwdB4i63CunOtNSNBqNbIIDDsU9c40pGW6bRzAYtLYe3kE+n7f+QuwMvpEGeX4Xh71er20aBUEvENjPIweJkYHggIrF4sE46ceuwG9+85s/+8N/+Zd/+Q1cEvAXBALvQ/mZHi0MFA/ramHQ9VB9YCoeSnFX/YlmB8eAtyalo4+K1AUnR6rA5oULkWQGS6UQw8X5Ib4D/THEHaKd1CYQCKharZozYKQplQmeD70P/BKIhNwadbHbj+TOH0okEgoEAjaWA37B8/azn+fzufW1tdttG5VL1YUiBu/aHc6HqNXn8+nt27fWlQ/Swrm6M8J5LqIoM3kKhYKOj49VqVTUarUOHOfx8bGtGWmAz+ezwXDHx8fWzoLIDk1QLpezFgvQ9mq1MkIdu6EHbbXaj/gF6YAIWUd60UBGzCyCXkDfA/9FQHJL5DSc8g7or6S1iPSRU3MYRcL3u71oBDveD+p3V7nuBluei6kGbtGJ0Tau0BQSnWyCVBdCGodGcAJ9rtdraxehEZcZUdwH6wjFAyrn3dLZwcBA7A4K4Z//+Z//z5/zO49W3z777LOdmybBq7iCL4gzHoqcGXQFH4WRcnOkGEBfqi3AfeBlJBKxYfkslHshXCNF+FDkxaZENIm6GZhKFUySNfYybgLnhBIYZSwHDyCEI0cH4lKFu7i4sO/AoTJFgc3tktu8I+AuKTAVptPTU0N7KM8Jne3J9wAAGE1JREFUFr1eT+/fv1e1WjVuCCfIUUFPnjxRt9s1h+J5nnXVw/mg/KXrnLWezWb6/PPPdXl5aX82n89VKBRUrVZtHhGD3YLBoCFYIjLEMw5ReoD4VEhpwmYTwd+R3tDGQjWSwEJUZtPg/DlsEkfrDmkj3eNZQAHMOcKZQFegiHcrqXwW8haqo7zLVCplh122Wi1zfnd3dweCRsrqaJ7cCh3leHiqdDpt/BDIDE0cgVJ6qJrB+bAPedfYLZ8JB0qFkXUG4bGXcGL8m+IQAZr0k9YX1ynitB6rvj1KdKPrkWQ9VCAJNhMLmUwmbdNtt1tVKpWDUqOr8GQjo8mBPD86OrKXikCMB+RzYftdBSyaDIye6gE8EH1lrq6FvJ6IwbHJVNNAKjS5uhzFdrvVzc2NTX7kz3EU1WpV1Wr1wHlTinYPFqCdgPfpEvd+v982Naka6vFodH+GG84T5TzHZN/e3lpvF6fSknLCg2GslMA5UYMSPwElHo+r2WzaRqKZeTKZ2DPWajXVajUbaQLhOxqNrBzOe9puHw4lRLWOjKLRaNg4ESI6Z+sRkEDqNDGTkrIJXMkGx2ut12sjff1+v+r1uvFpbnf8drvV7e2t+v2+BU0QM5wpCB3U6pLZ/H4kEtHTp09NWU+g4mRfVwfGf6PHggwPBoM2opdGYwIl2i9X34Y9UdVjEgeaN9eBcM8c+8Q+xVG72Qi8rythIPPx+/1W8AABuVo5d9Q1cof/L9cPzugGzjPeYDQaWbmVL4LbgSNw1Z14WGYxSw/SdsrUvAQWlgmPOBa3UuFGKDeyMn3SncoHGYgTRA8DhyXJPhd0x4aj2gIXk8vlbHMGg0FDEi6JTcmYqYc8OxseXowqnDuW1u3jwnkgQqVplQjmVnhcLY7neTYwrlKpKJVKGaLAoOHWMHbW9fr62o4JXy730zIZgEea53metXag0/rFL36h+/t75XI53d7e6uzszHg2JBGout2eSb6Hyh7d7i5SphmX2Vi1Ws36zmhfYY3ZZLFYzOZ2cY9UTPmHKifiV/eQzNFoZGuHI6eKy4aDZigUCtYSQ9D1+Xw6OzuzQIKuilSRqRbwXOwZNGputRdbd0XArkCSlBFRJ2kSe8/dBwQ895gz9hGUBDIAEJMrPHYpGrhF0CXr5d4njlp6OICS1DwcDv/4eUp/+7d/u2PRyY+J/sBqSQbX8f5ueuRCSaIjG8gdSOWma8Hg/uwueAhQBDCevNkdLsU9waVw30BXNif/4KDw3oyQmEwmqtfrB71DnHGHUZCOMXuHsjFRSpL1ar1//95mRcMjcew1xnh/f2/kpPRQscJJ8z2SbEa2O7eHs8W63a5ub2+N+6B6CIKjVYaRta4EgiOFmPEzGAw0m810cXFhhw0ga4jH4/rss8+UTCYtOpfLZeOTsCkMnI0UiURsw9/c3Ojly5fabrcmeoRcZeIA9gOHA382m83MSblCxl6vp1qtdsDvgZxYy9VqpZubG1WrVQt+6KVwbKTOFCSazaYVa7Av2kwYc+L3++3sO9CBy8dQ/UwkEvr2228PZDCU8ykiEThI/d2g/yGNwv+DTuB73AIU2jRsEPQINcA75D3Sz8ZzQbcQ3KSHXkEyHfaeK0uArsGO2WN+v1//9V//9ePEk1Q5cArcNJ4X3oJyOMQovV+gHVpG/H6/HS5JydSVyyPCItWCI6AVw3WIEG0YKbohoCp5OZqQbDZr3BAOCTjvppCBQEDv3r2zxXKrbzhCRGiQfCwUxuP3+9VoNIy4nM1mZqyVSsU2HpzS+fm5MpmMGTKweDQaqd1uW1CgLeTm5sa+5+rq6kAMl0wm7Ww2Tt7o9XpG+vKMu91Ox8fH1p5yc3NjCBEEXK1WbRqmKxKF5MdYITbb7bZVX6LRqFVj6N9CElGv11UqlXR3dydpfwx4o9Ew1CfJZAyUxhOJhHFl19fXOj09tdEwkUjE5Bj39/eGduDnGA1ydXVlz8UhCH/84x/N7lhPEArvlfPxCMKMZiaF2Ww2Oj8/t41IkBsMBsZlEmQYaUIABxXl83kbT4PomPfLJgfxuZQBmQp7CYfzoZqaqaJ+v9/GtEBqu85Pku017tnv9xvyRNuGvg0EicCZ6i7vgnvAoZMhPXb9YO8b+Tj5MoQe413JuXEYbrXLHUjGhD3SE3fEKr+DSA6HQsRgRIM7iI2XR1oI9yQ9kI/uSIlqtWozfqgM8FkgH6AzkJrUkfKuy/lA3vI5aKyYAcSpIAw7Y4OSAvj9fiNZN5v96RkMq5vNZnr+/LlarZYZmud56na7RiQzxRKHyTzpbDarb7/91gLFarUylTsEM1ELTkeS8QyQu7RZ0DAM+pCkFy9emHPPZDI6OzvTd999p7//+7/X7373Oyu1Y9SkWzhiihCbzf5AiJOTk4OpE6SLbrWOkj5IhkkTkPjwfnBh8DXonLA90O7V1ZWt193dnU1KZWZUKpU66AoYj8c2uoVn4oipWq1mBQM4r+12a/OLCJpIQJjyyXgTJrlCdoN8QS273c5SbkSd3C926fPtzwAkiPOOyVrYx8grAAmTyeRgrhdVadBdKBQykSgo2JU7BINB4/ao6sFlSQ8H0GI7/M7XX3/949K3zz//fEd1QHropSE6coNsNG7a5XIwcLwx1QVJxsXQcMlN0+NGTs9i8GLxwOg5iKhupRA46VYAqcLBwVB+B8W41ZzdbmeKYAhc+Cp3Lrc76AyUSNmZhZD2Ta/Pnj0zbsbVtKBLgtxmAzUaDavI9Pt9cxCgF1oyptOpbm5uDkYBM14lFAqpVCpZfxxzpFBfE2F5x/AlcATwFjTSRqNRU8zzOTjPTz75xKYgkoaA8KgcYqSSDGWTog8GA5tAQUma9A6+wvM8NRoN62Xj/VOWhwdcrVbWhoKEgnaRZDJpo11APTgONpDneXbwARVPBJbz+Vy1Ws3WHGEk9oHDRecHAkKMycEABF0oBexbkjlZAgP6JBTtpOM8MygINMLaQ1ZDk7CvGEJYLBatgs7eIDjRC4i2DgFzKBQyewJ5sycI2lA9cIhwT3B5f/jDH35c+sbDk6MypMuVyUMCo4YNhULWTwOhnc1m7eVA3vp8++l//D6KYXgVIhJoCifHdAKfz2eVIqpGpE9wKiwAVR8Mhkhcq9WsXQVHBvLgM8PhsKWGLLgkG0dC+rDdbi1tgHwfjUZWMeNMObfULz00Vc5mMw0GA3NEo9HISOBsNqtcLmfEKcbjDsX79NNPLTLydyBlXf0KTcKkyQQLt4zPRnYlDqSyRF13IgRtBMzOAs0QyVOplF6/fm3PBbqkXE4gQLdE4zHcxmg0MkfD3wPlomT/5JNPTG1MgET9/dVXX6nVahkSvbm5MVvAEaAX2m63Nkv7+vra+jOx+1QqpVgspng8rrOzM0ttSYM5ECIUCun09NQGC/Izmr4ZG0JblWtbvHPSSbczgUMaEB7jGJGaIHkhg3D7CHFKdF5g96yzOw4lGo2aOBabLRaLhu4Rm7LGBHLWh/vBUbqcKp/x565HkdKvf/3rnUtO4aioIIFAIOVID3g54XDYKgLwJ3hx9AqgGRzJhyM93EZRIjsjM3AYruN0SUryfdAeDpH7oaO50+mY46MNhFIuKIwSbbFYNIQoyU42QdB2cnJisNvv99tpK1SKMEJSNjedo50AJ4LTwkEWCgVDWqAn0E0otJ+1Lcm664+OjswJB4P7thRGttA4CyrAQZHaVSoV3d7e2jlvp6en5nCI2CCfRqOhFy9e6Pr6Wp988onevHlzcPIKa+55nskWILw5XBFURtrD5vqwSgsC8/v9JgYFUfEuG42GLi8vzeHwPglSbqXKnZTA5gS1djod48co8RPxsV8IdAKIK5RkLAtTMqU96nr16pVVr9DpUWXl2WnFAiGy/+BesRkq12x4N4DzLNi9JEMyFE4Qc5LugYpAPnDCODXslndANdjVBGL3/D48GxnXbvf4lIBHdUoQyvybXJ1+NBbazeNdkpCUC26HVgtX8cs4CXgYHA9iSUkHPUMQZyi8mYToljnJt4lSHJHjznTiOdbr/TE9tVrNSDsqYcBijAMSkZ42/py0yvM8qxCycBiTO8GQgXDM+bm7u7NnwZhDoZC9E59vP8qVcbf8DG3WbrezqhtVETRR9H2RppAepVIpXV1dKZPJGFfHcLdcLqdAIGDjVP7mb/5GX331lXK5nPGHnU7HNFAnJye6vLyU3+/X7e2tlco/++wzvX792qIkaBUx6MXFhTKZjDqdjjKZjDkIZlMhyuv1ejo9PbUeSzgZ1pyUZ7ncH+LJyF8CA+Q98gf+HkSxO1rE1Q8tFgu9ePHClPVIGNjg7v+v1/uDONH6pNNpDYdDGykMZ8dgQFA+30UqTHoLaifAgpZI43FK7C8COFwvaBHQQCB0sw2+iyyAd4L4l3eMXAWRNM6Q/QjiJJB+SOKz95AK/K+I7s8//3yHByYywhPhfCh7flhWZEO5kJRyP0Qgvw9XAAmGZ5UOj/MGFbhe39VjgLqI/lTJ3IFszP6BVHdfps/nM56JCYi01IA4+H3SQrr4i8XiwQYHjUmyNojb21v7u9zrh4PTpD366vf7xrm1Wi0bGUJeTiVuPB6r0+mYMBWyko0iPUx5yOVyevv2rc7Pz616RHc/hoTR0BcICru9vdXFxYW9w3a7rXw+r06no2fPnunbb79VqVSyzQfncXJyYnPO3eOLwuGwzRpieimBjiZt+stGo5EajYaOj49Nwc5m5h6Y3IkS2y2WuMUXuChQFagdBMAmDAb3c8RB7aBfUpFAIGAB0eXB3Ap1oVCwZ2ZaA8ckYe8EQWwNMtqVOnCYgvTAw7l6PXRSOAnQCTOR6IV0bR6dGs/tCn3dxmBEq271nUooaA4KA5sDFUKlMHKF9FDSo0T3o71v//qv//obcnR3UWh0lR4GqUWjURMD0hPnGiBe2a16UXbnz9zeOh6MGc3oJICfKH75GZCcFJLfZfPxnaQ+IBfSL6IlRoBaneoPBD7zhnGyoAAaOGu1mkV5nCYzpIno/DlRlOgD/0JaRP/Vp59+etDwy0QDSuLSA5qEZIWDYaxGKpUyQZvb34RimzyfRkp3ymCz2dRnn30mScrlcur3+1YEqNVqNsUAQS3P+mG6Sbrd6/VUrVZtxhGbEltiBAk8l+d5qtfr9jk+n88OSHjz5o3ev39vdAFVPLgoAk6hUDCime/ZbrcHDpGq8HK51PHxsSF1OBskJ7xffoZy25WlgB44P9CVtMBZwplBoPf7faXTaQvOoB2qzDw76S/Il8o0mjbpYVIshDu9jNgyAl3sl7QUusStikO9wBHxZ5xfh03zDnFI7CeQH+l3JBLRP/3TP/243rdf/vKX9kM8MK0kfClROBAIGClNs2O1WjV0BTIgHYFghd3fbDYHk/Jc8hnlMZAaJEXq6L4Uqgp8PvdN8y5Gend3p0qlYvm5i9YwWBYjl8up0+lYSsf90gaBQ6zVaibBR+zJXCUiCCmjy0E0Gg2rSNGiARogx6cCQ9d2PB7X69evD6YC3N7e6tmzZ9YrRTrtVtZAZ7R2ENVJl4lq9GYRDV++fGlRlagHP0QVkpI41RjSSUlmM8Fg0HryIN2J/NhDr9ezgzCJ+ozXkPaI9k9/+pORrXTQb7dbQwKMQ8H5zudznZ2dmaNzURKRv16vm6o9l8sZwoJqoLUFjox17nQ6qlarBxKIUChk6RycKJnD3d2dNSS7XCjUBnZP0YFOBbdHE84OES6UCPQEXBIVPBCZO/kSpMr+gXtC5kPFGY0R+5x003WcyHJIX0Hs7mBCms8Xi8WPr75hUJIMIbkEI/oKjIo/QykNCcafY1B41PV6bS+FvF2S9YcB/zi8kO8n6kLGuYtClYRSbTgctmoAEn84HKT/VA94mZvNxlTGPp/voEeN+c5UDpEBoA3JZrNWQQTRlEoli+KMemi1WtpsNmq1Wged65T34VLozUKoR4p4c3NjiI8u+Hq9rk6no++//16xWEytVkv9fl+tVkuDwUC9Xk/39/dmSLPZzErC0h5tzWYzffPNN7q5uTGNlmv4jKlwexEhiY+OjgxhZLNZa8GgPYFRGLVazU5jmc1mhvJWq5VyuZwKhYKhQND569ev9erVK93f39uAuvv7ezudFqFjv9/XfD43YR+o4unTp4YU1+uHBljSovPzc5NzhEIhW19kEBRh3NEqoBMadOnu530dHx9L2qO0UChkyHE6nVo6TuU1EAiYSLNUKpkA8eLi4n/or7ANikLYIEEOR8Cechu8qQBj21SLIed3u52Nz0GsSaUZwTSlfqqgOEJoEpw4iBvxtLRH6e7Zif+361GiGz4HSOd+MSgAowRxUQIHHeCsmFmNIpRTOAKBgJGw8DAftqHgmREmcoIEkRfCGa/OhqNCOJvNLL8nuoOiQGpwDKAv2gPYfK7GBWU6sD2fz+vk5MQQotv9jUPHQDAO6aENwx0HkUzuTxTt9Xp20isbifsoFov68ssvTVcjyY7FxiDdlguXoKenDJj/xz/+0fgenEcmk9HJyYkdnV0ul01A6M74kR7aXr755huFw2FrqaGLHWKf9AUJQKvVMkEhxOxqtbIyNIphmrIR4CI7YEIkjb+ovrEZSdbWRLWYeyZ1TqVSyuVyevPmjQUudGG0WYB0sS8KB4VCwZA2qet6vT/V5fj4+KALH/Eq6Xs4HLYKKMEX8l/at/8wGoUZUK4Mg89wj/1mMgFyDAS+6PkIilSTKdZstw8jobPZrKFYlzuCwsCpgIIlHYiK4Z0kqdFoGBqWHjSOfM6jfueHfoEIjvaCaEZlip/jofG6OCRJB2NH8PpwKKQnzAQCAvOSXbRGK8Nms7EXSSmbXBznls/n7XwxqkgIEiHN2ag4wN1uZ+klPAOTDBnGxSYCHbJJcdzugjFgrNls2nFIOFC4DX6HDQVyWC6XdvilJHPOs9lMnU5HFxcXWq1WdrYbkZf363meKdTH47GWy6UhTiB4NptVrVazqihoYTgcqtPpGPxmk0kPM7jZGNvtvrP+iy++0NHRkXEGtBt8uEFGo5E6nY5evHhherZweH/QwHa7b+T97rvv9M0335g+iXVlaB18Fo4OHgdhIbwfQj8OEZhOpzo7O1O9XtdisVAul9NyudTz58+tCksqSzsUBQSCGv2ABFAqSrzPTz75xFJanCOIl+dnfXFIbpdBqVSyQgZTAqAWaHxlegSVNje1wplAayBwdFNbuKlWq2WHvIKY2Qcu+uHd4VQo+CC0xU9IDwPnWBOKDh/u5ceuH2zIJf1qt9t2YiikFT8j54SvcDem3+83PY57GisvkmFYpElUe1zim5fEeBG4DuYbucdakwLx3xC8pFjv3783oSdIhQVEYyXJThwlXYRbIE1bLpfWxnF6eqp6vW5iSReJUKWB7MSRPn36VK1Wy3gNiGzUto1GQ4VCwaAuaQhHKqEKBrlCagLD3TPH7u/vTUjntgDwZ5C4bKJIJGKkq7Tvmzo+Pla9Xtc333yjfD5v64tBvn37VmdnZxqNRqrX61qtVuYU0d6wobCRXq+n4+NjvXr1Snd3d+r3+6rX69bjRiBiI+GAisWibm9vDR35/ft+LhqGx+OxpU69Xs/aQ168eHGQUjApFZTCHGwmneJYSJFJl+D8cEwEWxT5IK3xeKxyuazb21vLKO7u7kyO4k72lGTBkMCBrYFOQNn0nOZyOUOvvON4PK5Op2MtTkhnEGxmMhnjHEFLbuGKPXNzc2N7U9ojV44ed20WugR7cv/Nn0OjuJnTYw25PygJoIIGp+Jqk9wKHPDQFUvhKcnhXaiH8ft8PoO/bCoqXQjcWBz0K3BWu91+njYD+IfD4YEUAAdDtCVnppTvTrmk5wmCnRlNRDc2BONDLi4u5Hn7IWmgpmKxaLO5MSyONppOpzo9PdU333xjaMKdgMDRRkQV2hYgVEl3KVn/P+2dMY6EQAwELTJIcEBIwv/fww+Q4AuIZKPyzl1y0gVogqqYYHeYbcaN3cuaEu/B+nA/OLm11yNIiE9m1p82smb4IzwQmMNjCDcz66SGB0Upe993bNtWc3zzPNcYBE9bml2Jyb2uK87zrPITD4Q1ZbyBloaI7+Q7PWG8ACA5kxA+RCEzY13XiIgqvYZhiOM4KhOJkp9eMwxtZg1pcSE3nD4evFPeUGOSkyLAfp+mKfZ9/zFLxp77bWS383P4psuyVAQKlQb3uw3ja39XiAD7jM+B78P+ep6n8rowryl7afFo22/YPwgQ7QyMpXAN2sLpje81juP/o0tERN7mT09JRORNFCUR6QpFSUS6QlESka5QlESkKxQlEemKDyQ8FCApjCQWAAAAAElFTkSuQmCC\n",
          "text/plain": "<Figure size 360x360 with 1 Axes>"
         },
         "metadata": {
          "needs_background": "light"
         },
         "output_type": "display_data"
        }
       ]
      }
     },
     "a795c312b4d64200ad553a0f517e3f1b": {
      "model_module": "@jupyter-widgets/controls",
      "model_module_version": "1.5.0",
      "model_name": "HBoxModel",
      "state": {
       "children": [
        "IPY_MODEL_3b671a78f6df442b919e538dae7e2b8f"
       ],
       "layout": "IPY_MODEL_9c8f8a37215940a9b1fd8efc907de662"
      }
     },
     "aae9f8314b9b4396be255d67393c5711": {
      "model_module": "@jupyter-widgets/base",
      "model_module_version": "1.2.0",
      "model_name": "LayoutModel",
      "state": {}
     },
     "bed66ec5c99e49ebb6b69fddd722fa0a": {
      "model_module": "@jupyter-widgets/base",
      "model_module_version": "1.2.0",
      "model_name": "LayoutModel",
      "state": {
       "width": "50px"
      }
     },
     "cb08511f7a5640c98422851e60344221": {
      "model_module": "@jupyter-widgets/controls",
      "model_module_version": "1.5.0",
      "model_name": "HBoxModel",
      "state": {
       "children": [
        "IPY_MODEL_a795c312b4d64200ad553a0f517e3f1b",
        "IPY_MODEL_1017178887ca4107a54128c6e05def30"
       ],
       "layout": "IPY_MODEL_034e9772a5f344cdaff1a30c2ea35c9e"
      }
     },
     "e03ad64a17d7477a828a9d954bdd197b": {
      "model_module": "@jupyter-widgets/controls",
      "model_module_version": "1.5.0",
      "model_name": "LinkModel",
      "state": {
       "source": [
        "IPY_MODEL_3b671a78f6df442b919e538dae7e2b8f",
        "value"
       ],
       "target": [
        "IPY_MODEL_1017178887ca4107a54128c6e05def30",
        "value"
       ]
      }
     },
     "e5b3212d673d4e259621d678353ade10": {
      "model_module": "@jupyter-widgets/controls",
      "model_module_version": "1.5.0",
      "model_name": "SliderStyleModel",
      "state": {
       "description_width": ""
      }
     }
    },
    "version_major": 2,
    "version_minor": 0
   }
  }
 },
 "nbformat": 4,
 "nbformat_minor": 4
}
